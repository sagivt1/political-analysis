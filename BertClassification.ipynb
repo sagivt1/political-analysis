{
 "cells": [
  {
   "cell_type": "code",
   "execution_count": 1,
   "id": "7395c43c-28c0-4d1a-a92e-24463c6b7c27",
   "metadata": {},
   "outputs": [],
   "source": [
    "import tensorflow_hub as hub\n",
    "import numpy as np\n",
    "import pickle\n",
    "from sklearn.model_selection import train_test_split\n",
    "from simpletransformers.classification import ClassificationModel\n",
    "from sklearn.metrics import f1_score, accuracy_score"
   ]
  },
  {
   "cell_type": "markdown",
   "id": "94b09f6d-e924-44a3-b18d-d8b78452d7bf",
   "metadata": {
    "jp-MarkdownHeadingCollapsed": true,
    "tags": []
   },
   "source": [
    "## Bert Classifier"
   ]
  },
  {
   "cell_type": "markdown",
   "id": "ee824422-8030-4caf-82ab-0683d9a2a8d0",
   "metadata": {
    "jp-MarkdownHeadingCollapsed": true,
    "tags": []
   },
   "source": [
    "### Load Data"
   ]
  },
  {
   "cell_type": "code",
   "execution_count": 2,
   "id": "65a0d8c5-4fdf-4853-9158-3ae28421531b",
   "metadata": {},
   "outputs": [],
   "source": [
    "#Open Data With Pickle\n",
    "with open('Data.pkl', 'rb') as f:\n",
    "   data = pickle.load(f)"
   ]
  },
  {
   "cell_type": "code",
   "execution_count": 4,
   "id": "dcb86255-2aaa-4c35-b561-1c5cc5edea8a",
   "metadata": {},
   "outputs": [
    {
     "data": {
      "text/html": [
       "<div>\n",
       "<style scoped>\n",
       "    .dataframe tbody tr th:only-of-type {\n",
       "        vertical-align: middle;\n",
       "    }\n",
       "\n",
       "    .dataframe tbody tr th {\n",
       "        vertical-align: top;\n",
       "    }\n",
       "\n",
       "    .dataframe thead th {\n",
       "        text-align: right;\n",
       "    }\n",
       "</style>\n",
       "<table border=\"1\" class=\"dataframe\">\n",
       "  <thead>\n",
       "    <tr style=\"text-align: right;\">\n",
       "      <th></th>\n",
       "      <th>name</th>\n",
       "      <th>time</th>\n",
       "      <th>post</th>\n",
       "      <th>year</th>\n",
       "      <th>location</th>\n",
       "      <th>party</th>\n",
       "      <th>labor</th>\n",
       "      <th>geographical_area</th>\n",
       "      <th>negative</th>\n",
       "      <th>target</th>\n",
       "      <th>Elections</th>\n",
       "      <th>Tokens</th>\n",
       "      <th>bert</th>\n",
       "      <th>Vectors</th>\n",
       "      <th>tfidf</th>\n",
       "    </tr>\n",
       "  </thead>\n",
       "  <tbody>\n",
       "    <tr>\n",
       "      <th>0</th>\n",
       "      <td>Rami_Greenberg</td>\n",
       "      <td>14/05/2018 23:13</td>\n",
       "      <td>בזמן שאני במילואים משרת את המדינה אני מקבל עדכ...</td>\n",
       "      <td>2018.0</td>\n",
       "      <td>Petah Tikva</td>\n",
       "      <td>הליכוד</td>\n",
       "      <td>Right</td>\n",
       "      <td>Center</td>\n",
       "      <td>True</td>\n",
       "      <td>NaN</td>\n",
       "      <td>True</td>\n",
       "      <td>[זמן, במילואים, מדינה, עדכון, שטח, עבריין, נשל...</td>\n",
       "      <td>[0.16135516462782107, 0.17096072217797578, 0.6...</td>\n",
       "      <td>[[0.09727664, -0.034328427, -0.07360464, 0.004...</td>\n",
       "      <td>[0.0, 0.0, 0.0, 0.0, 0.0, 0.08299487732492938,...</td>\n",
       "    </tr>\n",
       "    <tr>\n",
       "      <th>1</th>\n",
       "      <td>Itai_Sahar</td>\n",
       "      <td>17/07/2018 21:31</td>\n",
       "      <td>ראיון ברשת ב' לגבי הזנחת מיגון השכונות הוותיקו...</td>\n",
       "      <td>2018.0</td>\n",
       "      <td>Ashkelon</td>\n",
       "      <td>תקווה חדשה,מופת</td>\n",
       "      <td>Right</td>\n",
       "      <td>South</td>\n",
       "      <td>True</td>\n",
       "      <td>NaN</td>\n",
       "      <td>True</td>\n",
       "      <td>[ראיון, ב', שכונה, התחממות, שבת, הפתיע, מוקד, ...</td>\n",
       "      <td>[0.12134942523386728, 0.21913829266070803, 0.6...</td>\n",
       "      <td>[[0.058681607, 0.0714004, -0.015508179, -0.024...</td>\n",
       "      <td>[0.0, 0.0, 0.0, 0.0, 0.0, 0.0, 0.0, 0.0, 0.0, ...</td>\n",
       "    </tr>\n",
       "    <tr>\n",
       "      <th>2</th>\n",
       "      <td>Itai_Sahar</td>\n",
       "      <td>25/09/2018 13:51</td>\n",
       "      <td>החיבור בין הנהגה עירונית להנהגה רוחנית באשקלון...</td>\n",
       "      <td>2018.0</td>\n",
       "      <td>Ashkelon</td>\n",
       "      <td>תקווה חדשה,מופת</td>\n",
       "      <td>Right</td>\n",
       "      <td>South</td>\n",
       "      <td>True</td>\n",
       "      <td>NaN</td>\n",
       "      <td>True</td>\n",
       "      <td>[חיבור, הנהגה, הנהגה, גבול, תמיכה, תמיכה, דעת,...</td>\n",
       "      <td>[0.060134747054776415, 0.21581373673541834, 0....</td>\n",
       "      <td>[[0.08643902, 0.02041652, 0.049621165, 0.00082...</td>\n",
       "      <td>[0.0, 0.0, 0.0, 0.0, 0.0, 0.0, 0.0, 0.0, 0.0, ...</td>\n",
       "    </tr>\n",
       "    <tr>\n",
       "      <th>3</th>\n",
       "      <td>Efraim Bulmash</td>\n",
       "      <td>17/09/2018 19:44</td>\n",
       "      <td>אם אני הייתי ראש עיריית קריית גת, כבוד הרב היה...</td>\n",
       "      <td>2018.0</td>\n",
       "      <td>Netanya</td>\n",
       "      <td>העבודה</td>\n",
       "      <td>Left</td>\n",
       "      <td>Center</td>\n",
       "      <td>True</td>\n",
       "      <td>NaN</td>\n",
       "      <td>True</td>\n",
       "      <td>[רב, רב, בלין,, התנצל, התפלל, כיפור, סליחה, עד...</td>\n",
       "      <td>[5.125870666233823e-05, 6.046074122423306e-05,...</td>\n",
       "      <td>[[-0.07948438, -0.053431872, 0.24393372, 0.028...</td>\n",
       "      <td>[0.0, 0.0, 0.0, 0.0, 0.0, 0.0, 0.0, 0.0, 0.0, ...</td>\n",
       "    </tr>\n",
       "    <tr>\n",
       "      <th>4</th>\n",
       "      <td>Efraim Bulmash</td>\n",
       "      <td>26/06/2018 08:19</td>\n",
       "      <td>קאט דה בולשיט שאנז אליזה ברחוב הרצל!   קודם תנ...</td>\n",
       "      <td>2018.0</td>\n",
       "      <td>Netanya</td>\n",
       "      <td>העבודה</td>\n",
       "      <td>Left</td>\n",
       "      <td>Center</td>\n",
       "      <td>True</td>\n",
       "      <td>NaN</td>\n",
       "      <td>True</td>\n",
       "      <td>[רחוב, תנגישו, עיר, מערך, ייצר, חנייה, כלל, חנ...</td>\n",
       "      <td>[5.993927698000334e-05, 4.033872755826451e-05,...</td>\n",
       "      <td>[[-0.070441075, 0.025691396, 0.11220714, -0.04...</td>\n",
       "      <td>[0.0, 0.0, 0.0, 0.0, 0.0, 0.0, 0.0, 0.0, 0.0, ...</td>\n",
       "    </tr>\n",
       "    <tr>\n",
       "      <th>...</th>\n",
       "      <td>...</td>\n",
       "      <td>...</td>\n",
       "      <td>...</td>\n",
       "      <td>...</td>\n",
       "      <td>...</td>\n",
       "      <td>...</td>\n",
       "      <td>...</td>\n",
       "      <td>...</td>\n",
       "      <td>...</td>\n",
       "      <td>...</td>\n",
       "      <td>...</td>\n",
       "      <td>...</td>\n",
       "      <td>...</td>\n",
       "      <td>...</td>\n",
       "      <td>...</td>\n",
       "    </tr>\n",
       "    <tr>\n",
       "      <th>1068</th>\n",
       "      <td>Shimon Keznelson</td>\n",
       "      <td>28/06/2018 14:53</td>\n",
       "      <td>מוטי אלבז היקר תודה רבה על האירוח הלבבי, תודה ...</td>\n",
       "      <td>2018.0</td>\n",
       "      <td>Ashdod</td>\n",
       "      <td>אשדוד ביחד</td>\n",
       "      <td>NaN</td>\n",
       "      <td>South</td>\n",
       "      <td>False</td>\n",
       "      <td>NaN</td>\n",
       "      <td>True</td>\n",
       "      <td>[תודה, אירוח, הודה, תושב, עיר, הגיע, הביע, תמי...</td>\n",
       "      <td>[0.0001437089085811749, 0.9997618794441223, 9....</td>\n",
       "      <td>[[-0.044175133, 0.08961652, 0.07179671, -0.008...</td>\n",
       "      <td>[0.0, 0.0, 0.0, 0.0, 0.0, 0.0, 0.0, 0.0, 0.0, ...</td>\n",
       "    </tr>\n",
       "    <tr>\n",
       "      <th>1069</th>\n",
       "      <td>Itzik Braverman</td>\n",
       "      <td>21/06/2018 09:46</td>\n",
       "      <td>הודעתי אתמול על הקמת יחידה לפיקוח על הגנים הפר...</td>\n",
       "      <td>2018.0</td>\n",
       "      <td>Petah Tikva</td>\n",
       "      <td>אכפ\"ת,העבודה</td>\n",
       "      <td>Left</td>\n",
       "      <td>Center</td>\n",
       "      <td>False</td>\n",
       "      <td>NaN</td>\n",
       "      <td>True</td>\n",
       "      <td>[הודיע, יחידה, פיקוח, גן, ערב, התקיים, מפגש, פ...</td>\n",
       "      <td>[0.10708105028121888, 0.8066147193312645, 0.08...</td>\n",
       "      <td>[[0.105399854, 0.099687375, -0.0052871583, 0.0...</td>\n",
       "      <td>[0.0, 0.0, 0.0, 0.0, 0.0, 0.0, 0.0, 0.0, 0.0, ...</td>\n",
       "    </tr>\n",
       "    <tr>\n",
       "      <th>1070</th>\n",
       "      <td>Raz Kinstlich</td>\n",
       "      <td>13/08/2018 08:45</td>\n",
       "      <td>מעין פלח שדה, 50, בעלת תואר שני במנהל עסקים.  ...</td>\n",
       "      <td>2018.0</td>\n",
       "      <td>Rishon LeZion</td>\n",
       "      <td>תקווה חדשה</td>\n",
       "      <td>Right</td>\n",
       "      <td>Center</td>\n",
       "      <td>False</td>\n",
       "      <td>NaN</td>\n",
       "      <td>True</td>\n",
       "      <td>[תואר, מנהל, עסק, רכש, מפעל, הייטק, דירקטור, מ...</td>\n",
       "      <td>[0.31750033317366616, 0.676763616874814, 0.005...</td>\n",
       "      <td>[[0.14289406, 0.057123892, 0.05320154, 0.00059...</td>\n",
       "      <td>[0.0, 0.0, 0.0, 0.0, 0.0, 0.0, 0.0, 0.0, 0.0, ...</td>\n",
       "    </tr>\n",
       "    <tr>\n",
       "      <th>1071</th>\n",
       "      <td>Ifat Kariv</td>\n",
       "      <td>28/10/2018 19:05</td>\n",
       "      <td>לא מבזבזים את הקול!   לתיבות הדואר שלכם הגיעה ...</td>\n",
       "      <td>2018.0</td>\n",
       "      <td>Hod Hasharon</td>\n",
       "      <td>NaN</td>\n",
       "      <td>NaN</td>\n",
       "      <td>Center</td>\n",
       "      <td>False</td>\n",
       "      <td>NaN</td>\n",
       "      <td>True</td>\n",
       "      <td>[קול, דואר, הגיע, חובר, מידע, בחירה, מידע, תוכ...</td>\n",
       "      <td>[0.161508748215662, 0.3438450593712332, 0.4946...</td>\n",
       "      <td>[[0.18943638, -0.048461493, -0.11169901, -0.15...</td>\n",
       "      <td>[0.0, 0.0, 0.0, 0.0, 0.0, 0.0, 0.0, 0.0, 0.0, ...</td>\n",
       "    </tr>\n",
       "    <tr>\n",
       "      <th>1072</th>\n",
       "      <td>Itzik Braverman</td>\n",
       "      <td>20/08/2018 05:55</td>\n",
       "      <td>מפגן תמיכה ענק של העדה האתיופית בראש העיר איצי...</td>\n",
       "      <td>2018.0</td>\n",
       "      <td>Petah Tikva</td>\n",
       "      <td>אכפ\"ת,העבודה</td>\n",
       "      <td>Left</td>\n",
       "      <td>Center</td>\n",
       "      <td>False</td>\n",
       "      <td>NaN</td>\n",
       "      <td>True</td>\n",
       "      <td>[תמיכה, עדה, עיר, השתתפות, עדה, קהל, קהילה, יי...</td>\n",
       "      <td>[0.09886708466729033, 0.882851941511035, 0.018...</td>\n",
       "      <td>[[-0.044653244, 0.0097915465, -0.013830921, -0...</td>\n",
       "      <td>[0.0, 0.0, 0.0, 0.0, 0.0, 0.0, 0.0, 0.0, 0.0, ...</td>\n",
       "    </tr>\n",
       "  </tbody>\n",
       "</table>\n",
       "<p>1073 rows × 15 columns</p>\n",
       "</div>"
      ],
      "text/plain": [
       "                  name              time  \\\n",
       "0       Rami_Greenberg  14/05/2018 23:13   \n",
       "1           Itai_Sahar  17/07/2018 21:31   \n",
       "2           Itai_Sahar  25/09/2018 13:51   \n",
       "3       Efraim Bulmash  17/09/2018 19:44   \n",
       "4       Efraim Bulmash  26/06/2018 08:19   \n",
       "...                ...               ...   \n",
       "1068  Shimon Keznelson  28/06/2018 14:53   \n",
       "1069   Itzik Braverman  21/06/2018 09:46   \n",
       "1070     Raz Kinstlich  13/08/2018 08:45   \n",
       "1071        Ifat Kariv  28/10/2018 19:05   \n",
       "1072   Itzik Braverman  20/08/2018 05:55   \n",
       "\n",
       "                                                   post    year  \\\n",
       "0     בזמן שאני במילואים משרת את המדינה אני מקבל עדכ...  2018.0   \n",
       "1     ראיון ברשת ב' לגבי הזנחת מיגון השכונות הוותיקו...  2018.0   \n",
       "2     החיבור בין הנהגה עירונית להנהגה רוחנית באשקלון...  2018.0   \n",
       "3     אם אני הייתי ראש עיריית קריית גת, כבוד הרב היה...  2018.0   \n",
       "4     קאט דה בולשיט שאנז אליזה ברחוב הרצל!   קודם תנ...  2018.0   \n",
       "...                                                 ...     ...   \n",
       "1068  מוטי אלבז היקר תודה רבה על האירוח הלבבי, תודה ...  2018.0   \n",
       "1069  הודעתי אתמול על הקמת יחידה לפיקוח על הגנים הפר...  2018.0   \n",
       "1070  מעין פלח שדה, 50, בעלת תואר שני במנהל עסקים.  ...  2018.0   \n",
       "1071  לא מבזבזים את הקול!   לתיבות הדואר שלכם הגיעה ...  2018.0   \n",
       "1072  מפגן תמיכה ענק של העדה האתיופית בראש העיר איצי...  2018.0   \n",
       "\n",
       "           location            party  labor geographical_area negative target  \\\n",
       "0       Petah Tikva           הליכוד  Right            Center     True    NaN   \n",
       "1          Ashkelon  תקווה חדשה,מופת  Right             South     True    NaN   \n",
       "2          Ashkelon  תקווה חדשה,מופת  Right             South     True    NaN   \n",
       "3           Netanya           העבודה   Left            Center     True    NaN   \n",
       "4           Netanya           העבודה   Left            Center     True    NaN   \n",
       "...             ...              ...    ...               ...      ...    ...   \n",
       "1068         Ashdod       אשדוד ביחד    NaN             South    False    NaN   \n",
       "1069    Petah Tikva     אכפ\"ת,העבודה   Left            Center    False    NaN   \n",
       "1070  Rishon LeZion       תקווה חדשה  Right            Center    False    NaN   \n",
       "1071   Hod Hasharon              NaN    NaN            Center    False    NaN   \n",
       "1072    Petah Tikva     אכפ\"ת,העבודה   Left            Center    False    NaN   \n",
       "\n",
       "     Elections                                             Tokens  \\\n",
       "0         True  [זמן, במילואים, מדינה, עדכון, שטח, עבריין, נשל...   \n",
       "1         True  [ראיון, ב', שכונה, התחממות, שבת, הפתיע, מוקד, ...   \n",
       "2         True  [חיבור, הנהגה, הנהגה, גבול, תמיכה, תמיכה, דעת,...   \n",
       "3         True  [רב, רב, בלין,, התנצל, התפלל, כיפור, סליחה, עד...   \n",
       "4         True  [רחוב, תנגישו, עיר, מערך, ייצר, חנייה, כלל, חנ...   \n",
       "...        ...                                                ...   \n",
       "1068      True  [תודה, אירוח, הודה, תושב, עיר, הגיע, הביע, תמי...   \n",
       "1069      True  [הודיע, יחידה, פיקוח, גן, ערב, התקיים, מפגש, פ...   \n",
       "1070      True  [תואר, מנהל, עסק, רכש, מפעל, הייטק, דירקטור, מ...   \n",
       "1071      True  [קול, דואר, הגיע, חובר, מידע, בחירה, מידע, תוכ...   \n",
       "1072      True  [תמיכה, עדה, עיר, השתתפות, עדה, קהל, קהילה, יי...   \n",
       "\n",
       "                                                   bert  \\\n",
       "0     [0.16135516462782107, 0.17096072217797578, 0.6...   \n",
       "1     [0.12134942523386728, 0.21913829266070803, 0.6...   \n",
       "2     [0.060134747054776415, 0.21581373673541834, 0....   \n",
       "3     [5.125870666233823e-05, 6.046074122423306e-05,...   \n",
       "4     [5.993927698000334e-05, 4.033872755826451e-05,...   \n",
       "...                                                 ...   \n",
       "1068  [0.0001437089085811749, 0.9997618794441223, 9....   \n",
       "1069  [0.10708105028121888, 0.8066147193312645, 0.08...   \n",
       "1070  [0.31750033317366616, 0.676763616874814, 0.005...   \n",
       "1071  [0.161508748215662, 0.3438450593712332, 0.4946...   \n",
       "1072  [0.09886708466729033, 0.882851941511035, 0.018...   \n",
       "\n",
       "                                                Vectors  \\\n",
       "0     [[0.09727664, -0.034328427, -0.07360464, 0.004...   \n",
       "1     [[0.058681607, 0.0714004, -0.015508179, -0.024...   \n",
       "2     [[0.08643902, 0.02041652, 0.049621165, 0.00082...   \n",
       "3     [[-0.07948438, -0.053431872, 0.24393372, 0.028...   \n",
       "4     [[-0.070441075, 0.025691396, 0.11220714, -0.04...   \n",
       "...                                                 ...   \n",
       "1068  [[-0.044175133, 0.08961652, 0.07179671, -0.008...   \n",
       "1069  [[0.105399854, 0.099687375, -0.0052871583, 0.0...   \n",
       "1070  [[0.14289406, 0.057123892, 0.05320154, 0.00059...   \n",
       "1071  [[0.18943638, -0.048461493, -0.11169901, -0.15...   \n",
       "1072  [[-0.044653244, 0.0097915465, -0.013830921, -0...   \n",
       "\n",
       "                                                  tfidf  \n",
       "0     [0.0, 0.0, 0.0, 0.0, 0.0, 0.08299487732492938,...  \n",
       "1     [0.0, 0.0, 0.0, 0.0, 0.0, 0.0, 0.0, 0.0, 0.0, ...  \n",
       "2     [0.0, 0.0, 0.0, 0.0, 0.0, 0.0, 0.0, 0.0, 0.0, ...  \n",
       "3     [0.0, 0.0, 0.0, 0.0, 0.0, 0.0, 0.0, 0.0, 0.0, ...  \n",
       "4     [0.0, 0.0, 0.0, 0.0, 0.0, 0.0, 0.0, 0.0, 0.0, ...  \n",
       "...                                                 ...  \n",
       "1068  [0.0, 0.0, 0.0, 0.0, 0.0, 0.0, 0.0, 0.0, 0.0, ...  \n",
       "1069  [0.0, 0.0, 0.0, 0.0, 0.0, 0.0, 0.0, 0.0, 0.0, ...  \n",
       "1070  [0.0, 0.0, 0.0, 0.0, 0.0, 0.0, 0.0, 0.0, 0.0, ...  \n",
       "1071  [0.0, 0.0, 0.0, 0.0, 0.0, 0.0, 0.0, 0.0, 0.0, ...  \n",
       "1072  [0.0, 0.0, 0.0, 0.0, 0.0, 0.0, 0.0, 0.0, 0.0, ...  \n",
       "\n",
       "[1073 rows x 15 columns]"
      ]
     },
     "execution_count": 4,
     "metadata": {},
     "output_type": "execute_result"
    }
   ],
   "source": [
    "data"
   ]
  },
  {
   "cell_type": "markdown",
   "id": "8c89da49-d085-4ea4-872a-798c5934ccad",
   "metadata": {
    "jp-MarkdownHeadingCollapsed": true,
    "tags": []
   },
   "source": [
    "### Train Model"
   ]
  },
  {
   "cell_type": "code",
   "execution_count": 5,
   "id": "f3cb8038-73ce-437a-a35e-3008b4f3f7af",
   "metadata": {},
   "outputs": [],
   "source": [
    "train_data = data[['post','negative']]"
   ]
  },
  {
   "cell_type": "code",
   "execution_count": 6,
   "id": "b8b55559-6f5a-46ff-834d-ff530f17bc2a",
   "metadata": {},
   "outputs": [
    {
     "data": {
      "text/html": [
       "<div>\n",
       "<style scoped>\n",
       "    .dataframe tbody tr th:only-of-type {\n",
       "        vertical-align: middle;\n",
       "    }\n",
       "\n",
       "    .dataframe tbody tr th {\n",
       "        vertical-align: top;\n",
       "    }\n",
       "\n",
       "    .dataframe thead th {\n",
       "        text-align: right;\n",
       "    }\n",
       "</style>\n",
       "<table border=\"1\" class=\"dataframe\">\n",
       "  <thead>\n",
       "    <tr style=\"text-align: right;\">\n",
       "      <th></th>\n",
       "      <th>post</th>\n",
       "      <th>negative</th>\n",
       "    </tr>\n",
       "  </thead>\n",
       "  <tbody>\n",
       "    <tr>\n",
       "      <th>0</th>\n",
       "      <td>בזמן שאני במילואים משרת את המדינה אני מקבל עדכ...</td>\n",
       "      <td>True</td>\n",
       "    </tr>\n",
       "    <tr>\n",
       "      <th>1</th>\n",
       "      <td>ראיון ברשת ב' לגבי הזנחת מיגון השכונות הוותיקו...</td>\n",
       "      <td>True</td>\n",
       "    </tr>\n",
       "    <tr>\n",
       "      <th>2</th>\n",
       "      <td>החיבור בין הנהגה עירונית להנהגה רוחנית באשקלון...</td>\n",
       "      <td>True</td>\n",
       "    </tr>\n",
       "    <tr>\n",
       "      <th>3</th>\n",
       "      <td>אם אני הייתי ראש עיריית קריית גת, כבוד הרב היה...</td>\n",
       "      <td>True</td>\n",
       "    </tr>\n",
       "    <tr>\n",
       "      <th>4</th>\n",
       "      <td>קאט דה בולשיט שאנז אליזה ברחוב הרצל!   קודם תנ...</td>\n",
       "      <td>True</td>\n",
       "    </tr>\n",
       "    <tr>\n",
       "      <th>...</th>\n",
       "      <td>...</td>\n",
       "      <td>...</td>\n",
       "    </tr>\n",
       "    <tr>\n",
       "      <th>1068</th>\n",
       "      <td>מוטי אלבז היקר תודה רבה על האירוח הלבבי, תודה ...</td>\n",
       "      <td>False</td>\n",
       "    </tr>\n",
       "    <tr>\n",
       "      <th>1069</th>\n",
       "      <td>הודעתי אתמול על הקמת יחידה לפיקוח על הגנים הפר...</td>\n",
       "      <td>False</td>\n",
       "    </tr>\n",
       "    <tr>\n",
       "      <th>1070</th>\n",
       "      <td>מעין פלח שדה, 50, בעלת תואר שני במנהל עסקים.  ...</td>\n",
       "      <td>False</td>\n",
       "    </tr>\n",
       "    <tr>\n",
       "      <th>1071</th>\n",
       "      <td>לא מבזבזים את הקול!   לתיבות הדואר שלכם הגיעה ...</td>\n",
       "      <td>False</td>\n",
       "    </tr>\n",
       "    <tr>\n",
       "      <th>1072</th>\n",
       "      <td>מפגן תמיכה ענק של העדה האתיופית בראש העיר איצי...</td>\n",
       "      <td>False</td>\n",
       "    </tr>\n",
       "  </tbody>\n",
       "</table>\n",
       "<p>1073 rows × 2 columns</p>\n",
       "</div>"
      ],
      "text/plain": [
       "                                                   post negative\n",
       "0     בזמן שאני במילואים משרת את המדינה אני מקבל עדכ...     True\n",
       "1     ראיון ברשת ב' לגבי הזנחת מיגון השכונות הוותיקו...     True\n",
       "2     החיבור בין הנהגה עירונית להנהגה רוחנית באשקלון...     True\n",
       "3     אם אני הייתי ראש עיריית קריית גת, כבוד הרב היה...     True\n",
       "4     קאט דה בולשיט שאנז אליזה ברחוב הרצל!   קודם תנ...     True\n",
       "...                                                 ...      ...\n",
       "1068  מוטי אלבז היקר תודה רבה על האירוח הלבבי, תודה ...    False\n",
       "1069  הודעתי אתמול על הקמת יחידה לפיקוח על הגנים הפר...    False\n",
       "1070  מעין פלח שדה, 50, בעלת תואר שני במנהל עסקים.  ...    False\n",
       "1071  לא מבזבזים את הקול!   לתיבות הדואר שלכם הגיעה ...    False\n",
       "1072  מפגן תמיכה ענק של העדה האתיופית בראש העיר איצי...    False\n",
       "\n",
       "[1073 rows x 2 columns]"
      ]
     },
     "execution_count": 6,
     "metadata": {},
     "output_type": "execute_result"
    }
   ],
   "source": [
    "train_data"
   ]
  },
  {
   "cell_type": "code",
   "execution_count": 39,
   "id": "d9927f09-bf95-4634-b953-f0824c20be40",
   "metadata": {},
   "outputs": [],
   "source": [
    "train_df, test_df = train_test_split(train_data, test_size=0.2, random_state = 10)\n",
    "train_df = train_df.reset_index(drop=True)\n",
    "test_df = test_df.reset_index(drop=True)"
   ]
  },
  {
   "cell_type": "code",
   "execution_count": 40,
   "id": "d48676b6-8178-4279-bd8e-e15a4d242154",
   "metadata": {},
   "outputs": [
    {
     "name": "stderr",
     "output_type": "stream",
     "text": [
      "Some weights of the model checkpoint at bert-base-multilingual-cased were not used when initializing BertForSequenceClassification: ['cls.predictions.transform.dense.weight', 'cls.predictions.decoder.weight', 'cls.predictions.transform.dense.bias', 'cls.seq_relationship.weight', 'cls.predictions.transform.LayerNorm.bias', 'cls.predictions.bias', 'cls.predictions.transform.LayerNorm.weight', 'cls.seq_relationship.bias']\n",
      "- This IS expected if you are initializing BertForSequenceClassification from the checkpoint of a model trained on another task or with another architecture (e.g. initializing a BertForSequenceClassification model from a BertForPreTraining model).\n",
      "- This IS NOT expected if you are initializing BertForSequenceClassification from the checkpoint of a model that you expect to be exactly identical (initializing a BertForSequenceClassification model from a BertForSequenceClassification model).\n",
      "Some weights of BertForSequenceClassification were not initialized from the model checkpoint at bert-base-multilingual-cased and are newly initialized: ['classifier.weight', 'classifier.bias']\n",
      "You should probably TRAIN this model on a down-stream task to be able to use it for predictions and inference.\n"
     ]
    }
   ],
   "source": [
    "# define hyperparameter\n",
    "train_args ={\"reprocess_input_data\": True,\n",
    "             \"fp16\":True,\n",
    "             \"num_train_epochs\": 50,\n",
    "             \"overwrite_output_dir\":True,\n",
    "             \"train_batch_size\":32}\n",
    "\n",
    "# Create a ClassificationModel\n",
    "model = ClassificationModel(\n",
    "     \"bert\", \"bert-base-multilingual-cased\",\n",
    "     tokenizer_name=\"bert-base-multilingual-cased\",\n",
    "     num_labels=2,\n",
    "     use_cuda=True,\n",
    "     args=train_args\n",
    " )"
   ]
  },
  {
   "cell_type": "code",
   "execution_count": 41,
   "id": "9c6d3a2c-ba81-4e93-b0b0-9ef66ba9458c",
   "metadata": {},
   "outputs": [
    {
     "name": "stderr",
     "output_type": "stream",
     "text": [
      "/home/politicalanalysis/environments/my_env/lib/python3.6/site-packages/simpletransformers/classification/classification_model.py:586: UserWarning: Dataframe headers not specified. Falling back to using column 0 as text and column 1 as labels.\n",
      "  \"Dataframe headers not specified. Falling back to using column 0 as text and column 1 as labels.\"\n"
     ]
    },
    {
     "data": {
      "application/vnd.jupyter.widget-view+json": {
       "model_id": "3a97278cdb6b4b7488276e9c4bd5953b",
       "version_major": 2,
       "version_minor": 0
      },
      "text/plain": [
       "  0%|          | 0/858 [00:00<?, ?it/s]"
      ]
     },
     "metadata": {},
     "output_type": "display_data"
    },
    {
     "data": {
      "application/vnd.jupyter.widget-view+json": {
       "model_id": "8ba45ab3bdef41e6939142891f96b104",
       "version_major": 2,
       "version_minor": 0
      },
      "text/plain": [
       "Epoch:   0%|          | 0/50 [00:00<?, ?it/s]"
      ]
     },
     "metadata": {},
     "output_type": "display_data"
    },
    {
     "data": {
      "application/vnd.jupyter.widget-view+json": {
       "model_id": "d9193879b6804bb0b8700432c81c685d",
       "version_major": 2,
       "version_minor": 0
      },
      "text/plain": [
       "Running Epoch 0 of 50:   0%|          | 0/27 [00:00<?, ?it/s]"
      ]
     },
     "metadata": {},
     "output_type": "display_data"
    },
    {
     "name": "stderr",
     "output_type": "stream",
     "text": [
      "/home/politicalanalysis/environments/my_env/lib/python3.6/site-packages/torch/optim/lr_scheduler.py:134: UserWarning: Detected call of `lr_scheduler.step()` before `optimizer.step()`. In PyTorch 1.1.0 and later, you should call them in the opposite order: `optimizer.step()` before `lr_scheduler.step()`.  Failure to do this will result in PyTorch skipping the first value of the learning rate schedule. See more details at https://pytorch.org/docs/stable/optim.html#how-to-adjust-learning-rate\n",
      "  \"https://pytorch.org/docs/stable/optim.html#how-to-adjust-learning-rate\", UserWarning)\n"
     ]
    },
    {
     "data": {
      "application/vnd.jupyter.widget-view+json": {
       "model_id": "8095583138914b7090e84abbc8a28982",
       "version_major": 2,
       "version_minor": 0
      },
      "text/plain": [
       "Running Epoch 1 of 50:   0%|          | 0/27 [00:00<?, ?it/s]"
      ]
     },
     "metadata": {},
     "output_type": "display_data"
    },
    {
     "data": {
      "application/vnd.jupyter.widget-view+json": {
       "model_id": "dbe233be8d0f414fa4aabcabf616f331",
       "version_major": 2,
       "version_minor": 0
      },
      "text/plain": [
       "Running Epoch 2 of 50:   0%|          | 0/27 [00:00<?, ?it/s]"
      ]
     },
     "metadata": {},
     "output_type": "display_data"
    },
    {
     "data": {
      "application/vnd.jupyter.widget-view+json": {
       "model_id": "b6cae82f9df54819b26c8f77d15ccabe",
       "version_major": 2,
       "version_minor": 0
      },
      "text/plain": [
       "Running Epoch 3 of 50:   0%|          | 0/27 [00:00<?, ?it/s]"
      ]
     },
     "metadata": {},
     "output_type": "display_data"
    },
    {
     "data": {
      "application/vnd.jupyter.widget-view+json": {
       "model_id": "659add8b547344b7aba77d21f568ab76",
       "version_major": 2,
       "version_minor": 0
      },
      "text/plain": [
       "Running Epoch 4 of 50:   0%|          | 0/27 [00:00<?, ?it/s]"
      ]
     },
     "metadata": {},
     "output_type": "display_data"
    },
    {
     "data": {
      "application/vnd.jupyter.widget-view+json": {
       "model_id": "2aa362090ced44abab4c9c4c4181fff3",
       "version_major": 2,
       "version_minor": 0
      },
      "text/plain": [
       "Running Epoch 5 of 50:   0%|          | 0/27 [00:00<?, ?it/s]"
      ]
     },
     "metadata": {},
     "output_type": "display_data"
    },
    {
     "data": {
      "application/vnd.jupyter.widget-view+json": {
       "model_id": "289161db4268476a95dbcd460d407a6a",
       "version_major": 2,
       "version_minor": 0
      },
      "text/plain": [
       "Running Epoch 6 of 50:   0%|          | 0/27 [00:00<?, ?it/s]"
      ]
     },
     "metadata": {},
     "output_type": "display_data"
    },
    {
     "data": {
      "application/vnd.jupyter.widget-view+json": {
       "model_id": "b2fda18661b14c1babfede615761fa23",
       "version_major": 2,
       "version_minor": 0
      },
      "text/plain": [
       "Running Epoch 7 of 50:   0%|          | 0/27 [00:00<?, ?it/s]"
      ]
     },
     "metadata": {},
     "output_type": "display_data"
    },
    {
     "data": {
      "application/vnd.jupyter.widget-view+json": {
       "model_id": "7df34c3067c3466b814e3b51526cd0fd",
       "version_major": 2,
       "version_minor": 0
      },
      "text/plain": [
       "Running Epoch 8 of 50:   0%|          | 0/27 [00:00<?, ?it/s]"
      ]
     },
     "metadata": {},
     "output_type": "display_data"
    },
    {
     "data": {
      "application/vnd.jupyter.widget-view+json": {
       "model_id": "850b87ab716a438eb9ec681f16d78f6a",
       "version_major": 2,
       "version_minor": 0
      },
      "text/plain": [
       "Running Epoch 9 of 50:   0%|          | 0/27 [00:00<?, ?it/s]"
      ]
     },
     "metadata": {},
     "output_type": "display_data"
    },
    {
     "data": {
      "application/vnd.jupyter.widget-view+json": {
       "model_id": "2ab39296cbed46299f46762ede68f45f",
       "version_major": 2,
       "version_minor": 0
      },
      "text/plain": [
       "Running Epoch 10 of 50:   0%|          | 0/27 [00:00<?, ?it/s]"
      ]
     },
     "metadata": {},
     "output_type": "display_data"
    },
    {
     "data": {
      "application/vnd.jupyter.widget-view+json": {
       "model_id": "f7ea837cd9994c8fa36401a8b61aa840",
       "version_major": 2,
       "version_minor": 0
      },
      "text/plain": [
       "Running Epoch 11 of 50:   0%|          | 0/27 [00:00<?, ?it/s]"
      ]
     },
     "metadata": {},
     "output_type": "display_data"
    },
    {
     "data": {
      "application/vnd.jupyter.widget-view+json": {
       "model_id": "c38d0149a8634543bf4bb2bedf1436fe",
       "version_major": 2,
       "version_minor": 0
      },
      "text/plain": [
       "Running Epoch 12 of 50:   0%|          | 0/27 [00:00<?, ?it/s]"
      ]
     },
     "metadata": {},
     "output_type": "display_data"
    },
    {
     "data": {
      "application/vnd.jupyter.widget-view+json": {
       "model_id": "7cfdbeb0f9ec4d4ea1e5be7e5fde8fec",
       "version_major": 2,
       "version_minor": 0
      },
      "text/plain": [
       "Running Epoch 13 of 50:   0%|          | 0/27 [00:00<?, ?it/s]"
      ]
     },
     "metadata": {},
     "output_type": "display_data"
    },
    {
     "data": {
      "application/vnd.jupyter.widget-view+json": {
       "model_id": "b619a451888840e5a72ec80f7366c0c1",
       "version_major": 2,
       "version_minor": 0
      },
      "text/plain": [
       "Running Epoch 14 of 50:   0%|          | 0/27 [00:00<?, ?it/s]"
      ]
     },
     "metadata": {},
     "output_type": "display_data"
    },
    {
     "data": {
      "application/vnd.jupyter.widget-view+json": {
       "model_id": "76d0f513a38c4b1dbb26556e23762aba",
       "version_major": 2,
       "version_minor": 0
      },
      "text/plain": [
       "Running Epoch 15 of 50:   0%|          | 0/27 [00:00<?, ?it/s]"
      ]
     },
     "metadata": {},
     "output_type": "display_data"
    },
    {
     "data": {
      "application/vnd.jupyter.widget-view+json": {
       "model_id": "e8e783ae8fc14707931507308e0024e3",
       "version_major": 2,
       "version_minor": 0
      },
      "text/plain": [
       "Running Epoch 16 of 50:   0%|          | 0/27 [00:00<?, ?it/s]"
      ]
     },
     "metadata": {},
     "output_type": "display_data"
    },
    {
     "data": {
      "application/vnd.jupyter.widget-view+json": {
       "model_id": "e5c0673d016745f3b5f023aaef0265d6",
       "version_major": 2,
       "version_minor": 0
      },
      "text/plain": [
       "Running Epoch 17 of 50:   0%|          | 0/27 [00:00<?, ?it/s]"
      ]
     },
     "metadata": {},
     "output_type": "display_data"
    },
    {
     "data": {
      "application/vnd.jupyter.widget-view+json": {
       "model_id": "a8802dc0d76c49edb30f6709d909dcb8",
       "version_major": 2,
       "version_minor": 0
      },
      "text/plain": [
       "Running Epoch 18 of 50:   0%|          | 0/27 [00:00<?, ?it/s]"
      ]
     },
     "metadata": {},
     "output_type": "display_data"
    },
    {
     "data": {
      "application/vnd.jupyter.widget-view+json": {
       "model_id": "f8df5673a6d64869b6ba483a30ea70b1",
       "version_major": 2,
       "version_minor": 0
      },
      "text/plain": [
       "Running Epoch 19 of 50:   0%|          | 0/27 [00:00<?, ?it/s]"
      ]
     },
     "metadata": {},
     "output_type": "display_data"
    },
    {
     "data": {
      "application/vnd.jupyter.widget-view+json": {
       "model_id": "10a82aa9b5ca4d5da82e2db1681e38e2",
       "version_major": 2,
       "version_minor": 0
      },
      "text/plain": [
       "Running Epoch 20 of 50:   0%|          | 0/27 [00:00<?, ?it/s]"
      ]
     },
     "metadata": {},
     "output_type": "display_data"
    },
    {
     "data": {
      "application/vnd.jupyter.widget-view+json": {
       "model_id": "0c1d47bb1c164059b6fc94fcfe44a494",
       "version_major": 2,
       "version_minor": 0
      },
      "text/plain": [
       "Running Epoch 21 of 50:   0%|          | 0/27 [00:00<?, ?it/s]"
      ]
     },
     "metadata": {},
     "output_type": "display_data"
    },
    {
     "data": {
      "application/vnd.jupyter.widget-view+json": {
       "model_id": "ecebc7cfb3f14377be282d0c991017b3",
       "version_major": 2,
       "version_minor": 0
      },
      "text/plain": [
       "Running Epoch 22 of 50:   0%|          | 0/27 [00:00<?, ?it/s]"
      ]
     },
     "metadata": {},
     "output_type": "display_data"
    },
    {
     "data": {
      "application/vnd.jupyter.widget-view+json": {
       "model_id": "197d38959f4649139ea9ead916d82c24",
       "version_major": 2,
       "version_minor": 0
      },
      "text/plain": [
       "Running Epoch 23 of 50:   0%|          | 0/27 [00:00<?, ?it/s]"
      ]
     },
     "metadata": {},
     "output_type": "display_data"
    },
    {
     "data": {
      "application/vnd.jupyter.widget-view+json": {
       "model_id": "76c7b7d2b63e4744993c92d8f84e3162",
       "version_major": 2,
       "version_minor": 0
      },
      "text/plain": [
       "Running Epoch 24 of 50:   0%|          | 0/27 [00:00<?, ?it/s]"
      ]
     },
     "metadata": {},
     "output_type": "display_data"
    },
    {
     "data": {
      "application/vnd.jupyter.widget-view+json": {
       "model_id": "9bf0455349c14c5595999241ab8caa2d",
       "version_major": 2,
       "version_minor": 0
      },
      "text/plain": [
       "Running Epoch 25 of 50:   0%|          | 0/27 [00:00<?, ?it/s]"
      ]
     },
     "metadata": {},
     "output_type": "display_data"
    },
    {
     "data": {
      "application/vnd.jupyter.widget-view+json": {
       "model_id": "3586a2a673a544a187fb88e492f154d2",
       "version_major": 2,
       "version_minor": 0
      },
      "text/plain": [
       "Running Epoch 26 of 50:   0%|          | 0/27 [00:00<?, ?it/s]"
      ]
     },
     "metadata": {},
     "output_type": "display_data"
    },
    {
     "data": {
      "application/vnd.jupyter.widget-view+json": {
       "model_id": "f882ade05c8f431eb34e406ebe068aaf",
       "version_major": 2,
       "version_minor": 0
      },
      "text/plain": [
       "Running Epoch 27 of 50:   0%|          | 0/27 [00:00<?, ?it/s]"
      ]
     },
     "metadata": {},
     "output_type": "display_data"
    },
    {
     "data": {
      "application/vnd.jupyter.widget-view+json": {
       "model_id": "eaab6caa3be64f79ac80e580984085cd",
       "version_major": 2,
       "version_minor": 0
      },
      "text/plain": [
       "Running Epoch 28 of 50:   0%|          | 0/27 [00:00<?, ?it/s]"
      ]
     },
     "metadata": {},
     "output_type": "display_data"
    },
    {
     "data": {
      "application/vnd.jupyter.widget-view+json": {
       "model_id": "d55a78a77c5a4868be362ce3d8dc02a3",
       "version_major": 2,
       "version_minor": 0
      },
      "text/plain": [
       "Running Epoch 29 of 50:   0%|          | 0/27 [00:00<?, ?it/s]"
      ]
     },
     "metadata": {},
     "output_type": "display_data"
    },
    {
     "data": {
      "application/vnd.jupyter.widget-view+json": {
       "model_id": "e4cbca371b764ec4ac103c1ee767d5d6",
       "version_major": 2,
       "version_minor": 0
      },
      "text/plain": [
       "Running Epoch 30 of 50:   0%|          | 0/27 [00:00<?, ?it/s]"
      ]
     },
     "metadata": {},
     "output_type": "display_data"
    },
    {
     "data": {
      "application/vnd.jupyter.widget-view+json": {
       "model_id": "d5b7738af0724fd0a6584f77bf1409ed",
       "version_major": 2,
       "version_minor": 0
      },
      "text/plain": [
       "Running Epoch 31 of 50:   0%|          | 0/27 [00:00<?, ?it/s]"
      ]
     },
     "metadata": {},
     "output_type": "display_data"
    },
    {
     "data": {
      "application/vnd.jupyter.widget-view+json": {
       "model_id": "9e1898f55c5f455fb25f043ebf4c18c5",
       "version_major": 2,
       "version_minor": 0
      },
      "text/plain": [
       "Running Epoch 32 of 50:   0%|          | 0/27 [00:00<?, ?it/s]"
      ]
     },
     "metadata": {},
     "output_type": "display_data"
    },
    {
     "data": {
      "application/vnd.jupyter.widget-view+json": {
       "model_id": "a65fee7863744cfe9c479a65b9671c28",
       "version_major": 2,
       "version_minor": 0
      },
      "text/plain": [
       "Running Epoch 33 of 50:   0%|          | 0/27 [00:00<?, ?it/s]"
      ]
     },
     "metadata": {},
     "output_type": "display_data"
    },
    {
     "data": {
      "application/vnd.jupyter.widget-view+json": {
       "model_id": "675c2fa3a2af435c8cbdf8e94bff8727",
       "version_major": 2,
       "version_minor": 0
      },
      "text/plain": [
       "Running Epoch 34 of 50:   0%|          | 0/27 [00:00<?, ?it/s]"
      ]
     },
     "metadata": {},
     "output_type": "display_data"
    },
    {
     "data": {
      "application/vnd.jupyter.widget-view+json": {
       "model_id": "dd276ecd90c448308040b24c96ab8ffd",
       "version_major": 2,
       "version_minor": 0
      },
      "text/plain": [
       "Running Epoch 35 of 50:   0%|          | 0/27 [00:00<?, ?it/s]"
      ]
     },
     "metadata": {},
     "output_type": "display_data"
    },
    {
     "data": {
      "application/vnd.jupyter.widget-view+json": {
       "model_id": "a2e7af5043ba4c7db62668ce5923ac9a",
       "version_major": 2,
       "version_minor": 0
      },
      "text/plain": [
       "Running Epoch 36 of 50:   0%|          | 0/27 [00:00<?, ?it/s]"
      ]
     },
     "metadata": {},
     "output_type": "display_data"
    },
    {
     "data": {
      "application/vnd.jupyter.widget-view+json": {
       "model_id": "b768eb6f54ae4218aff9c723f23ba72f",
       "version_major": 2,
       "version_minor": 0
      },
      "text/plain": [
       "Running Epoch 37 of 50:   0%|          | 0/27 [00:00<?, ?it/s]"
      ]
     },
     "metadata": {},
     "output_type": "display_data"
    },
    {
     "data": {
      "application/vnd.jupyter.widget-view+json": {
       "model_id": "6dbb09bedf254b22afdd3666dbcf311d",
       "version_major": 2,
       "version_minor": 0
      },
      "text/plain": [
       "Running Epoch 38 of 50:   0%|          | 0/27 [00:00<?, ?it/s]"
      ]
     },
     "metadata": {},
     "output_type": "display_data"
    },
    {
     "data": {
      "application/vnd.jupyter.widget-view+json": {
       "model_id": "9cb7013637054a3fa7fdbf9d98cfdea0",
       "version_major": 2,
       "version_minor": 0
      },
      "text/plain": [
       "Running Epoch 39 of 50:   0%|          | 0/27 [00:00<?, ?it/s]"
      ]
     },
     "metadata": {},
     "output_type": "display_data"
    },
    {
     "data": {
      "application/vnd.jupyter.widget-view+json": {
       "model_id": "ea2e3958b7c04aba8b0017f6cee1dc8c",
       "version_major": 2,
       "version_minor": 0
      },
      "text/plain": [
       "Running Epoch 40 of 50:   0%|          | 0/27 [00:00<?, ?it/s]"
      ]
     },
     "metadata": {},
     "output_type": "display_data"
    },
    {
     "data": {
      "application/vnd.jupyter.widget-view+json": {
       "model_id": "25983563027848c2b351b35984a40d23",
       "version_major": 2,
       "version_minor": 0
      },
      "text/plain": [
       "Running Epoch 41 of 50:   0%|          | 0/27 [00:00<?, ?it/s]"
      ]
     },
     "metadata": {},
     "output_type": "display_data"
    },
    {
     "data": {
      "application/vnd.jupyter.widget-view+json": {
       "model_id": "8c4376968b604661abc6d04d937d63f6",
       "version_major": 2,
       "version_minor": 0
      },
      "text/plain": [
       "Running Epoch 42 of 50:   0%|          | 0/27 [00:00<?, ?it/s]"
      ]
     },
     "metadata": {},
     "output_type": "display_data"
    },
    {
     "data": {
      "application/vnd.jupyter.widget-view+json": {
       "model_id": "f203258dab4a4a40ac3ee020801c5a7b",
       "version_major": 2,
       "version_minor": 0
      },
      "text/plain": [
       "Running Epoch 43 of 50:   0%|          | 0/27 [00:00<?, ?it/s]"
      ]
     },
     "metadata": {},
     "output_type": "display_data"
    },
    {
     "data": {
      "application/vnd.jupyter.widget-view+json": {
       "model_id": "b58b39b966a04b81a33f14095d06ca06",
       "version_major": 2,
       "version_minor": 0
      },
      "text/plain": [
       "Running Epoch 44 of 50:   0%|          | 0/27 [00:00<?, ?it/s]"
      ]
     },
     "metadata": {},
     "output_type": "display_data"
    },
    {
     "data": {
      "application/vnd.jupyter.widget-view+json": {
       "model_id": "dddafbe7f15d4e08aa1f0314b0e70a8e",
       "version_major": 2,
       "version_minor": 0
      },
      "text/plain": [
       "Running Epoch 45 of 50:   0%|          | 0/27 [00:00<?, ?it/s]"
      ]
     },
     "metadata": {},
     "output_type": "display_data"
    },
    {
     "data": {
      "application/vnd.jupyter.widget-view+json": {
       "model_id": "883da60627ae4c68a582fda1c92b455a",
       "version_major": 2,
       "version_minor": 0
      },
      "text/plain": [
       "Running Epoch 46 of 50:   0%|          | 0/27 [00:00<?, ?it/s]"
      ]
     },
     "metadata": {},
     "output_type": "display_data"
    },
    {
     "data": {
      "application/vnd.jupyter.widget-view+json": {
       "model_id": "960fd20d2f2f4597856d34f8a055ac1f",
       "version_major": 2,
       "version_minor": 0
      },
      "text/plain": [
       "Running Epoch 47 of 50:   0%|          | 0/27 [00:00<?, ?it/s]"
      ]
     },
     "metadata": {},
     "output_type": "display_data"
    },
    {
     "data": {
      "application/vnd.jupyter.widget-view+json": {
       "model_id": "3fbf7f1637f4445aaf9aeea640f52ca5",
       "version_major": 2,
       "version_minor": 0
      },
      "text/plain": [
       "Running Epoch 48 of 50:   0%|          | 0/27 [00:00<?, ?it/s]"
      ]
     },
     "metadata": {},
     "output_type": "display_data"
    },
    {
     "data": {
      "application/vnd.jupyter.widget-view+json": {
       "model_id": "ed3a13240f9c4eacb05fe75659057271",
       "version_major": 2,
       "version_minor": 0
      },
      "text/plain": [
       "Running Epoch 49 of 50:   0%|          | 0/27 [00:00<?, ?it/s]"
      ]
     },
     "metadata": {},
     "output_type": "display_data"
    },
    {
     "data": {
      "text/plain": [
       "(1350, 0.07205702698033106)"
      ]
     },
     "execution_count": 41,
     "metadata": {},
     "output_type": "execute_result"
    }
   ],
   "source": [
    "model.train_model(train_df)"
   ]
  },
  {
   "cell_type": "code",
   "execution_count": 44,
   "id": "f8e0df3e-e6b0-457d-bc49-28f174702644",
   "metadata": {},
   "outputs": [
    {
     "name": "stderr",
     "output_type": "stream",
     "text": [
      "/home/politicalanalysis/environments/my_env/lib/python3.6/site-packages/simpletransformers/classification/classification_model.py:1427: UserWarning: Dataframe headers not specified. Falling back to using column 0 as text and column 1 as labels.\n",
      "  \"Dataframe headers not specified. Falling back to using column 0 as text and column 1 as labels.\"\n"
     ]
    },
    {
     "data": {
      "application/vnd.jupyter.widget-view+json": {
       "model_id": "2279bb6f87314376a15d50bb454e2466",
       "version_major": 2,
       "version_minor": 0
      },
      "text/plain": [
       "  0%|          | 0/858 [00:00<?, ?it/s]"
      ]
     },
     "metadata": {},
     "output_type": "display_data"
    },
    {
     "data": {
      "application/vnd.jupyter.widget-view+json": {
       "model_id": "c8dbd7c76ee14371934ce1af8a4dddad",
       "version_major": 2,
       "version_minor": 0
      },
      "text/plain": [
       "Running Evaluation:   0%|          | 0/108 [00:00<?, ?it/s]"
      ]
     },
     "metadata": {},
     "output_type": "display_data"
    }
   ],
   "source": [
    "def f1_multiclass(labels, preds):\n",
    "    return f1_score(labels, preds, average='micro')\n",
    "\n",
    "result, model_outputs, wrong_predictions = model.eval_model(test_df,  acc=accuracy_score)"
   ]
  },
  {
   "cell_type": "code",
   "execution_count": 45,
   "id": "44c5d9c6-44c0-4e1a-abf3-1a5893bb6693",
   "metadata": {},
   "outputs": [
    {
     "data": {
      "text/plain": [
       "{'mcc': 0.9976703173155479,\n",
       " 'tp': 439,\n",
       " 'tn': 418,\n",
       " 'fp': 1,\n",
       " 'fn': 0,\n",
       " 'auroc': 0.9999972817370788,\n",
       " 'auprc': 0.9999948229447091,\n",
       " 'acc': 0.9988344988344988,\n",
       " 'eval_loss': 0.0016306187543604109}"
      ]
     },
     "execution_count": 45,
     "metadata": {},
     "output_type": "execute_result"
    }
   ],
   "source": [
    "result"
   ]
  },
  {
   "cell_type": "code",
   "execution_count": null,
   "id": "ea351ebd-2903-4aaa-8f63-73bde6993360",
   "metadata": {},
   "outputs": [],
   "source": []
  }
 ],
 "metadata": {
  "kernelspec": {
   "display_name": "Python 3",
   "language": "python",
   "name": "python3"
  },
  "language_info": {
   "codemirror_mode": {
    "name": "ipython",
    "version": 3
   },
   "file_extension": ".py",
   "mimetype": "text/x-python",
   "name": "python",
   "nbconvert_exporter": "python",
   "pygments_lexer": "ipython3",
   "version": "3.6.9"
  }
 },
 "nbformat": 4,
 "nbformat_minor": 5
}
