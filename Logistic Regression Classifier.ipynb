{
 "cells": [
  {
   "cell_type": "code",
   "execution_count": 5,
   "id": "8982e9a2",
   "metadata": {},
   "outputs": [],
   "source": [
    "from sklearn.model_selection import train_test_split\n",
    "from sklearn.linear_model import LogisticRegression\n",
    "import pickle\n",
    "import numpy as np\n",
    "from sklearn.metrics import (\n",
    "    accuracy_score,\n",
    "    classification_report,\n",
    "    confusion_matrix,\n",
    ")\n",
    "from sklearn.preprocessing import normalize"
   ]
  },
  {
   "cell_type": "markdown",
   "id": "bc7a87c5-5c73-4fd0-9350-ea25921e7098",
   "metadata": {
    "jp-MarkdownHeadingCollapsed": true,
    "tags": []
   },
   "source": [
    "## Logistic Regression Classifier"
   ]
  },
  {
   "cell_type": "markdown",
   "id": "b53e20cb-a047-4b0a-9efe-d380f451a17d",
   "metadata": {
    "jp-MarkdownHeadingCollapsed": true,
    "tags": []
   },
   "source": [
    "### Load Data"
   ]
  },
  {
   "cell_type": "code",
   "execution_count": 6,
   "id": "4d9b58d3",
   "metadata": {},
   "outputs": [],
   "source": [
    "#Open Data With Pickle\n",
    "with open('Data.pkl', 'rb') as f:\n",
    "   data = pickle.load(f)"
   ]
  },
  {
   "cell_type": "code",
   "execution_count": 7,
   "id": "09766486",
   "metadata": {
    "scrolled": true
   },
   "outputs": [
    {
     "data": {
      "text/html": [
       "<div>\n",
       "<style scoped>\n",
       "    .dataframe tbody tr th:only-of-type {\n",
       "        vertical-align: middle;\n",
       "    }\n",
       "\n",
       "    .dataframe tbody tr th {\n",
       "        vertical-align: top;\n",
       "    }\n",
       "\n",
       "    .dataframe thead th {\n",
       "        text-align: right;\n",
       "    }\n",
       "</style>\n",
       "<table border=\"1\" class=\"dataframe\">\n",
       "  <thead>\n",
       "    <tr style=\"text-align: right;\">\n",
       "      <th></th>\n",
       "      <th>name</th>\n",
       "      <th>time</th>\n",
       "      <th>post</th>\n",
       "      <th>year</th>\n",
       "      <th>location</th>\n",
       "      <th>party</th>\n",
       "      <th>labor</th>\n",
       "      <th>geographical_area</th>\n",
       "      <th>negative</th>\n",
       "      <th>target</th>\n",
       "      <th>Elections</th>\n",
       "      <th>Tokens</th>\n",
       "      <th>bert</th>\n",
       "      <th>Vectors</th>\n",
       "      <th>tfidf</th>\n",
       "      <th>vector</th>\n",
       "      <th>vector_bert</th>\n",
       "    </tr>\n",
       "  </thead>\n",
       "  <tbody>\n",
       "    <tr>\n",
       "      <th>0</th>\n",
       "      <td>Rami_Greenberg</td>\n",
       "      <td>14/05/2018 23:13</td>\n",
       "      <td>בזמן שאני במילואים משרת את המדינה אני מקבל עדכ...</td>\n",
       "      <td>2018.0</td>\n",
       "      <td>Petah Tikva</td>\n",
       "      <td>הליכוד</td>\n",
       "      <td>Right</td>\n",
       "      <td>Center</td>\n",
       "      <td>True</td>\n",
       "      <td>NaN</td>\n",
       "      <td>True</td>\n",
       "      <td>[זמן, במילואים, מדינה, עדכון, שטח, עבריין, נשל...</td>\n",
       "      <td>[0.16135516462782107, 0.17096072217797578, 0.6...</td>\n",
       "      <td>[[0.09727664, -0.034328427, -0.07360464, 0.004...</td>\n",
       "      <td>[0.0, 0.0, 0.0, 0.0, 0.0, 0.08299487732492938,...</td>\n",
       "      <td>[0.07604318, 0.03708317, 0.004228877, 0.009245...</td>\n",
       "      <td>[0.06206696740866874, 0.03026753945647396, 0.0...</td>\n",
       "    </tr>\n",
       "    <tr>\n",
       "      <th>1</th>\n",
       "      <td>Itai_Sahar</td>\n",
       "      <td>17/07/2018 21:31</td>\n",
       "      <td>ראיון ברשת ב' לגבי הזנחת מיגון השכונות הוותיקו...</td>\n",
       "      <td>2018.0</td>\n",
       "      <td>Ashkelon</td>\n",
       "      <td>תקווה חדשה,מופת</td>\n",
       "      <td>Right</td>\n",
       "      <td>South</td>\n",
       "      <td>True</td>\n",
       "      <td>NaN</td>\n",
       "      <td>True</td>\n",
       "      <td>[ראיון, ב', שכונה, התחממות, שבת, הפתיע, מוקד, ...</td>\n",
       "      <td>[0.12134942523386728, 0.21913829266070803, 0.6...</td>\n",
       "      <td>[[0.058681607, 0.0714004, -0.015508179, -0.024...</td>\n",
       "      <td>[0.0, 0.0, 0.0, 0.0, 0.0, 0.0, 0.0, 0.0, 0.0, ...</td>\n",
       "      <td>[0.11289048, 0.044306744, -0.0011322891, 0.001...</td>\n",
       "      <td>[0.09224532558855783, 0.03620402664024396, -0....</td>\n",
       "    </tr>\n",
       "    <tr>\n",
       "      <th>2</th>\n",
       "      <td>Itai_Sahar</td>\n",
       "      <td>25/09/2018 13:51</td>\n",
       "      <td>החיבור בין הנהגה עירונית להנהגה רוחנית באשקלון...</td>\n",
       "      <td>2018.0</td>\n",
       "      <td>Ashkelon</td>\n",
       "      <td>תקווה חדשה,מופת</td>\n",
       "      <td>Right</td>\n",
       "      <td>South</td>\n",
       "      <td>True</td>\n",
       "      <td>NaN</td>\n",
       "      <td>True</td>\n",
       "      <td>[חיבור, הנהגה, הנהגה, גבול, תמיכה, תמיכה, דעת,...</td>\n",
       "      <td>[0.060134747054776415, 0.21581373673541834, 0....</td>\n",
       "      <td>[[0.08643902, 0.02041652, 0.049621165, 0.00082...</td>\n",
       "      <td>[0.0, 0.0, 0.0, 0.0, 0.0, 0.0, 0.0, 0.0, 0.0, ...</td>\n",
       "      <td>[0.07949513, 0.007759858, -0.023834607, -0.014...</td>\n",
       "      <td>[0.0633544511470046, 0.006184297421710909, -0....</td>\n",
       "    </tr>\n",
       "    <tr>\n",
       "      <th>3</th>\n",
       "      <td>Efraim Bulmash</td>\n",
       "      <td>17/09/2018 19:44</td>\n",
       "      <td>אם אני הייתי ראש עיריית קריית גת, כבוד הרב היה...</td>\n",
       "      <td>2018.0</td>\n",
       "      <td>Netanya</td>\n",
       "      <td>העבודה</td>\n",
       "      <td>Left</td>\n",
       "      <td>Center</td>\n",
       "      <td>True</td>\n",
       "      <td>NaN</td>\n",
       "      <td>True</td>\n",
       "      <td>[רב, רב, בלין,, התנצל, התפלל, כיפור, סליחה, עד...</td>\n",
       "      <td>[5.125870666233823e-05, 6.046074122423306e-05,...</td>\n",
       "      <td>[[-0.07948438, -0.053431872, 0.24393372, 0.028...</td>\n",
       "      <td>[0.0, 0.0, 0.0, 0.0, 0.0, 0.0, 0.0, 0.0, 0.0, ...</td>\n",
       "      <td>[0.11812946, 0.03536752, 0.09238993, 0.0247975...</td>\n",
       "      <td>[0.08353480678897714, 0.025010008409760302, 0....</td>\n",
       "    </tr>\n",
       "    <tr>\n",
       "      <th>4</th>\n",
       "      <td>Efraim Bulmash</td>\n",
       "      <td>26/06/2018 08:19</td>\n",
       "      <td>קאט דה בולשיט שאנז אליזה ברחוב הרצל!   קודם תנ...</td>\n",
       "      <td>2018.0</td>\n",
       "      <td>Netanya</td>\n",
       "      <td>העבודה</td>\n",
       "      <td>Left</td>\n",
       "      <td>Center</td>\n",
       "      <td>True</td>\n",
       "      <td>NaN</td>\n",
       "      <td>True</td>\n",
       "      <td>[רחוב, תנגישו, עיר, מערך, ייצר, חנייה, כלל, חנ...</td>\n",
       "      <td>[5.993927698000334e-05, 4.033872755826451e-05,...</td>\n",
       "      <td>[[-0.070441075, 0.025691396, 0.11220714, -0.04...</td>\n",
       "      <td>[0.0, 0.0, 0.0, 0.0, 0.0, 0.0, 0.0, 0.0, 0.0, ...</td>\n",
       "      <td>[0.00833093, 0.021003628, 0.016224029, -0.0059...</td>\n",
       "      <td>[0.005891152176260563, 0.014852551794441459, 0...</td>\n",
       "    </tr>\n",
       "    <tr>\n",
       "      <th>...</th>\n",
       "      <td>...</td>\n",
       "      <td>...</td>\n",
       "      <td>...</td>\n",
       "      <td>...</td>\n",
       "      <td>...</td>\n",
       "      <td>...</td>\n",
       "      <td>...</td>\n",
       "      <td>...</td>\n",
       "      <td>...</td>\n",
       "      <td>...</td>\n",
       "      <td>...</td>\n",
       "      <td>...</td>\n",
       "      <td>...</td>\n",
       "      <td>...</td>\n",
       "      <td>...</td>\n",
       "      <td>...</td>\n",
       "      <td>...</td>\n",
       "    </tr>\n",
       "    <tr>\n",
       "      <th>1068</th>\n",
       "      <td>Shimon Keznelson</td>\n",
       "      <td>28/06/2018 14:53</td>\n",
       "      <td>מוטי אלבז היקר תודה רבה על האירוח הלבבי, תודה ...</td>\n",
       "      <td>2018.0</td>\n",
       "      <td>Ashdod</td>\n",
       "      <td>אשדוד ביחד</td>\n",
       "      <td>NaN</td>\n",
       "      <td>South</td>\n",
       "      <td>False</td>\n",
       "      <td>NaN</td>\n",
       "      <td>True</td>\n",
       "      <td>[תודה, אירוח, הודה, תושב, עיר, הגיע, הביע, תמי...</td>\n",
       "      <td>[0.0001437089085811749, 0.9997618794441223, 9....</td>\n",
       "      <td>[[-0.044175133, 0.08961652, 0.07179671, -0.008...</td>\n",
       "      <td>[0.0, 0.0, 0.0, 0.0, 0.0, 0.0, 0.0, 0.0, 0.0, ...</td>\n",
       "      <td>[0.053761464, 0.04795019, -0.034467813, -0.020...</td>\n",
       "      <td>[0.03801962248159642, 0.0339099418528342, -0.0...</td>\n",
       "    </tr>\n",
       "    <tr>\n",
       "      <th>1069</th>\n",
       "      <td>Itzik Braverman</td>\n",
       "      <td>21/06/2018 09:46</td>\n",
       "      <td>הודעתי אתמול על הקמת יחידה לפיקוח על הגנים הפר...</td>\n",
       "      <td>2018.0</td>\n",
       "      <td>Petah Tikva</td>\n",
       "      <td>אכפ\"ת,העבודה</td>\n",
       "      <td>Left</td>\n",
       "      <td>Center</td>\n",
       "      <td>False</td>\n",
       "      <td>NaN</td>\n",
       "      <td>True</td>\n",
       "      <td>[הודיע, יחידה, פיקוח, גן, ערב, התקיים, מפגש, פ...</td>\n",
       "      <td>[0.10708105028121888, 0.8066147193312645, 0.08...</td>\n",
       "      <td>[[0.105399854, 0.099687375, -0.0052871583, 0.0...</td>\n",
       "      <td>[0.0, 0.0, 0.0, 0.0, 0.0, 0.0, 0.0, 0.0, 0.0, ...</td>\n",
       "      <td>[0.07601041, 0.070055865, 0.011938051, 0.00425...</td>\n",
       "      <td>[0.0588266896592857, 0.054218289659497515, 0.0...</td>\n",
       "    </tr>\n",
       "    <tr>\n",
       "      <th>1070</th>\n",
       "      <td>Raz Kinstlich</td>\n",
       "      <td>13/08/2018 08:45</td>\n",
       "      <td>מעין פלח שדה, 50, בעלת תואר שני במנהל עסקים.  ...</td>\n",
       "      <td>2018.0</td>\n",
       "      <td>Rishon LeZion</td>\n",
       "      <td>תקווה חדשה</td>\n",
       "      <td>Right</td>\n",
       "      <td>Center</td>\n",
       "      <td>False</td>\n",
       "      <td>NaN</td>\n",
       "      <td>True</td>\n",
       "      <td>[תואר, מנהל, עסק, רכש, מפעל, הייטק, דירקטור, מ...</td>\n",
       "      <td>[0.31750033317366616, 0.676763616874814, 0.005...</td>\n",
       "      <td>[[0.14289406, 0.057123892, 0.05320154, 0.00059...</td>\n",
       "      <td>[0.0, 0.0, 0.0, 0.0, 0.0, 0.0, 0.0, 0.0, 0.0, ...</td>\n",
       "      <td>[0.06607444, 0.027755663, 0.0006567719, -0.005...</td>\n",
       "      <td>[0.05292142742056728, 0.02223052257488099, 0.0...</td>\n",
       "    </tr>\n",
       "    <tr>\n",
       "      <th>1071</th>\n",
       "      <td>Ifat Kariv</td>\n",
       "      <td>28/10/2018 19:05</td>\n",
       "      <td>לא מבזבזים את הקול!   לתיבות הדואר שלכם הגיעה ...</td>\n",
       "      <td>2018.0</td>\n",
       "      <td>Hod Hasharon</td>\n",
       "      <td>NaN</td>\n",
       "      <td>NaN</td>\n",
       "      <td>Center</td>\n",
       "      <td>False</td>\n",
       "      <td>NaN</td>\n",
       "      <td>True</td>\n",
       "      <td>[קול, דואר, הגיע, חובר, מידע, בחירה, מידע, תוכ...</td>\n",
       "      <td>[0.161508748215662, 0.3438450593712332, 0.4946...</td>\n",
       "      <td>[[0.18943638, -0.048461493, -0.11169901, -0.15...</td>\n",
       "      <td>[0.0, 0.0, 0.0, 0.0, 0.0, 0.0, 0.0, 0.0, 0.0, ...</td>\n",
       "      <td>[0.0973147, 0.015040123, -0.045787748, -0.0605...</td>\n",
       "      <td>[0.08257128457036103, 0.012761507378532495, -0...</td>\n",
       "    </tr>\n",
       "    <tr>\n",
       "      <th>1072</th>\n",
       "      <td>Itzik Braverman</td>\n",
       "      <td>20/08/2018 05:55</td>\n",
       "      <td>מפגן תמיכה ענק של העדה האתיופית בראש העיר איצי...</td>\n",
       "      <td>2018.0</td>\n",
       "      <td>Petah Tikva</td>\n",
       "      <td>אכפ\"ת,העבודה</td>\n",
       "      <td>Left</td>\n",
       "      <td>Center</td>\n",
       "      <td>False</td>\n",
       "      <td>NaN</td>\n",
       "      <td>True</td>\n",
       "      <td>[תמיכה, עדה, עיר, השתתפות, עדה, קהל, קהילה, יי...</td>\n",
       "      <td>[0.09886708466729033, 0.882851941511035, 0.018...</td>\n",
       "      <td>[[-0.044653244, 0.0097915465, -0.013830921, -0...</td>\n",
       "      <td>[0.0, 0.0, 0.0, 0.0, 0.0, 0.0, 0.0, 0.0, 0.0, ...</td>\n",
       "      <td>[0.045342375, 0.04438538, 0.007948217, -0.0042...</td>\n",
       "      <td>[0.03389486950790959, 0.03317948634171206, 0.0...</td>\n",
       "    </tr>\n",
       "  </tbody>\n",
       "</table>\n",
       "<p>1073 rows × 17 columns</p>\n",
       "</div>"
      ],
      "text/plain": [
       "                  name              time  \\\n",
       "0       Rami_Greenberg  14/05/2018 23:13   \n",
       "1           Itai_Sahar  17/07/2018 21:31   \n",
       "2           Itai_Sahar  25/09/2018 13:51   \n",
       "3       Efraim Bulmash  17/09/2018 19:44   \n",
       "4       Efraim Bulmash  26/06/2018 08:19   \n",
       "...                ...               ...   \n",
       "1068  Shimon Keznelson  28/06/2018 14:53   \n",
       "1069   Itzik Braverman  21/06/2018 09:46   \n",
       "1070     Raz Kinstlich  13/08/2018 08:45   \n",
       "1071        Ifat Kariv  28/10/2018 19:05   \n",
       "1072   Itzik Braverman  20/08/2018 05:55   \n",
       "\n",
       "                                                   post    year  \\\n",
       "0     בזמן שאני במילואים משרת את המדינה אני מקבל עדכ...  2018.0   \n",
       "1     ראיון ברשת ב' לגבי הזנחת מיגון השכונות הוותיקו...  2018.0   \n",
       "2     החיבור בין הנהגה עירונית להנהגה רוחנית באשקלון...  2018.0   \n",
       "3     אם אני הייתי ראש עיריית קריית גת, כבוד הרב היה...  2018.0   \n",
       "4     קאט דה בולשיט שאנז אליזה ברחוב הרצל!   קודם תנ...  2018.0   \n",
       "...                                                 ...     ...   \n",
       "1068  מוטי אלבז היקר תודה רבה על האירוח הלבבי, תודה ...  2018.0   \n",
       "1069  הודעתי אתמול על הקמת יחידה לפיקוח על הגנים הפר...  2018.0   \n",
       "1070  מעין פלח שדה, 50, בעלת תואר שני במנהל עסקים.  ...  2018.0   \n",
       "1071  לא מבזבזים את הקול!   לתיבות הדואר שלכם הגיעה ...  2018.0   \n",
       "1072  מפגן תמיכה ענק של העדה האתיופית בראש העיר איצי...  2018.0   \n",
       "\n",
       "           location            party  labor geographical_area negative target  \\\n",
       "0       Petah Tikva           הליכוד  Right            Center     True    NaN   \n",
       "1          Ashkelon  תקווה חדשה,מופת  Right             South     True    NaN   \n",
       "2          Ashkelon  תקווה חדשה,מופת  Right             South     True    NaN   \n",
       "3           Netanya           העבודה   Left            Center     True    NaN   \n",
       "4           Netanya           העבודה   Left            Center     True    NaN   \n",
       "...             ...              ...    ...               ...      ...    ...   \n",
       "1068         Ashdod       אשדוד ביחד    NaN             South    False    NaN   \n",
       "1069    Petah Tikva     אכפ\"ת,העבודה   Left            Center    False    NaN   \n",
       "1070  Rishon LeZion       תקווה חדשה  Right            Center    False    NaN   \n",
       "1071   Hod Hasharon              NaN    NaN            Center    False    NaN   \n",
       "1072    Petah Tikva     אכפ\"ת,העבודה   Left            Center    False    NaN   \n",
       "\n",
       "     Elections                                             Tokens  \\\n",
       "0         True  [זמן, במילואים, מדינה, עדכון, שטח, עבריין, נשל...   \n",
       "1         True  [ראיון, ב', שכונה, התחממות, שבת, הפתיע, מוקד, ...   \n",
       "2         True  [חיבור, הנהגה, הנהגה, גבול, תמיכה, תמיכה, דעת,...   \n",
       "3         True  [רב, רב, בלין,, התנצל, התפלל, כיפור, סליחה, עד...   \n",
       "4         True  [רחוב, תנגישו, עיר, מערך, ייצר, חנייה, כלל, חנ...   \n",
       "...        ...                                                ...   \n",
       "1068      True  [תודה, אירוח, הודה, תושב, עיר, הגיע, הביע, תמי...   \n",
       "1069      True  [הודיע, יחידה, פיקוח, גן, ערב, התקיים, מפגש, פ...   \n",
       "1070      True  [תואר, מנהל, עסק, רכש, מפעל, הייטק, דירקטור, מ...   \n",
       "1071      True  [קול, דואר, הגיע, חובר, מידע, בחירה, מידע, תוכ...   \n",
       "1072      True  [תמיכה, עדה, עיר, השתתפות, עדה, קהל, קהילה, יי...   \n",
       "\n",
       "                                                   bert  \\\n",
       "0     [0.16135516462782107, 0.17096072217797578, 0.6...   \n",
       "1     [0.12134942523386728, 0.21913829266070803, 0.6...   \n",
       "2     [0.060134747054776415, 0.21581373673541834, 0....   \n",
       "3     [5.125870666233823e-05, 6.046074122423306e-05,...   \n",
       "4     [5.993927698000334e-05, 4.033872755826451e-05,...   \n",
       "...                                                 ...   \n",
       "1068  [0.0001437089085811749, 0.9997618794441223, 9....   \n",
       "1069  [0.10708105028121888, 0.8066147193312645, 0.08...   \n",
       "1070  [0.31750033317366616, 0.676763616874814, 0.005...   \n",
       "1071  [0.161508748215662, 0.3438450593712332, 0.4946...   \n",
       "1072  [0.09886708466729033, 0.882851941511035, 0.018...   \n",
       "\n",
       "                                                Vectors  \\\n",
       "0     [[0.09727664, -0.034328427, -0.07360464, 0.004...   \n",
       "1     [[0.058681607, 0.0714004, -0.015508179, -0.024...   \n",
       "2     [[0.08643902, 0.02041652, 0.049621165, 0.00082...   \n",
       "3     [[-0.07948438, -0.053431872, 0.24393372, 0.028...   \n",
       "4     [[-0.070441075, 0.025691396, 0.11220714, -0.04...   \n",
       "...                                                 ...   \n",
       "1068  [[-0.044175133, 0.08961652, 0.07179671, -0.008...   \n",
       "1069  [[0.105399854, 0.099687375, -0.0052871583, 0.0...   \n",
       "1070  [[0.14289406, 0.057123892, 0.05320154, 0.00059...   \n",
       "1071  [[0.18943638, -0.048461493, -0.11169901, -0.15...   \n",
       "1072  [[-0.044653244, 0.0097915465, -0.013830921, -0...   \n",
       "\n",
       "                                                  tfidf  \\\n",
       "0     [0.0, 0.0, 0.0, 0.0, 0.0, 0.08299487732492938,...   \n",
       "1     [0.0, 0.0, 0.0, 0.0, 0.0, 0.0, 0.0, 0.0, 0.0, ...   \n",
       "2     [0.0, 0.0, 0.0, 0.0, 0.0, 0.0, 0.0, 0.0, 0.0, ...   \n",
       "3     [0.0, 0.0, 0.0, 0.0, 0.0, 0.0, 0.0, 0.0, 0.0, ...   \n",
       "4     [0.0, 0.0, 0.0, 0.0, 0.0, 0.0, 0.0, 0.0, 0.0, ...   \n",
       "...                                                 ...   \n",
       "1068  [0.0, 0.0, 0.0, 0.0, 0.0, 0.0, 0.0, 0.0, 0.0, ...   \n",
       "1069  [0.0, 0.0, 0.0, 0.0, 0.0, 0.0, 0.0, 0.0, 0.0, ...   \n",
       "1070  [0.0, 0.0, 0.0, 0.0, 0.0, 0.0, 0.0, 0.0, 0.0, ...   \n",
       "1071  [0.0, 0.0, 0.0, 0.0, 0.0, 0.0, 0.0, 0.0, 0.0, ...   \n",
       "1072  [0.0, 0.0, 0.0, 0.0, 0.0, 0.0, 0.0, 0.0, 0.0, ...   \n",
       "\n",
       "                                                 vector  \\\n",
       "0     [0.07604318, 0.03708317, 0.004228877, 0.009245...   \n",
       "1     [0.11289048, 0.044306744, -0.0011322891, 0.001...   \n",
       "2     [0.07949513, 0.007759858, -0.023834607, -0.014...   \n",
       "3     [0.11812946, 0.03536752, 0.09238993, 0.0247975...   \n",
       "4     [0.00833093, 0.021003628, 0.016224029, -0.0059...   \n",
       "...                                                 ...   \n",
       "1068  [0.053761464, 0.04795019, -0.034467813, -0.020...   \n",
       "1069  [0.07601041, 0.070055865, 0.011938051, 0.00425...   \n",
       "1070  [0.06607444, 0.027755663, 0.0006567719, -0.005...   \n",
       "1071  [0.0973147, 0.015040123, -0.045787748, -0.0605...   \n",
       "1072  [0.045342375, 0.04438538, 0.007948217, -0.0042...   \n",
       "\n",
       "                                            vector_bert  \n",
       "0     [0.06206696740866874, 0.03026753945647396, 0.0...  \n",
       "1     [0.09224532558855783, 0.03620402664024396, -0....  \n",
       "2     [0.0633544511470046, 0.006184297421710909, -0....  \n",
       "3     [0.08353480678897714, 0.025010008409760302, 0....  \n",
       "4     [0.005891152176260563, 0.014852551794441459, 0...  \n",
       "...                                                 ...  \n",
       "1068  [0.03801962248159642, 0.0339099418528342, -0.0...  \n",
       "1069  [0.0588266896592857, 0.054218289659497515, 0.0...  \n",
       "1070  [0.05292142742056728, 0.02223052257488099, 0.0...  \n",
       "1071  [0.08257128457036103, 0.012761507378532495, -0...  \n",
       "1072  [0.03389486950790959, 0.03317948634171206, 0.0...  \n",
       "\n",
       "[1073 rows x 17 columns]"
      ]
     },
     "execution_count": 7,
     "metadata": {},
     "output_type": "execute_result"
    }
   ],
   "source": [
    "data"
   ]
  },
  {
   "cell_type": "markdown",
   "id": "7a6bfd9b-bfa2-42c7-bb43-bc491cd3feae",
   "metadata": {
    "jp-MarkdownHeadingCollapsed": true,
    "tags": []
   },
   "source": [
    "### FatsText"
   ]
  },
  {
   "cell_type": "code",
   "execution_count": 8,
   "id": "c42a405f",
   "metadata": {},
   "outputs": [],
   "source": [
    "clf_no_bert = LogisticRegression(random_state=0)"
   ]
  },
  {
   "cell_type": "code",
   "execution_count": 9,
   "id": "b8f62376",
   "metadata": {},
   "outputs": [],
   "source": [
    "X_train, X_test, y_train, y_test = train_test_split(list(data['vector']), list(data['negative']), test_size=0.2,random_state=7)"
   ]
  },
  {
   "cell_type": "code",
   "execution_count": 10,
   "id": "cf728b37",
   "metadata": {},
   "outputs": [
    {
     "data": {
      "text/plain": [
       "LogisticRegression(random_state=0)"
      ]
     },
     "execution_count": 10,
     "metadata": {},
     "output_type": "execute_result"
    }
   ],
   "source": [
    "clf_no_bert.fit(X_train, y_train)"
   ]
  },
  {
   "cell_type": "code",
   "execution_count": 11,
   "id": "52dbc126",
   "metadata": {},
   "outputs": [
    {
     "data": {
      "text/plain": [
       "0.7116279069767442"
      ]
     },
     "execution_count": 11,
     "metadata": {},
     "output_type": "execute_result"
    }
   ],
   "source": [
    "clf_no_bert.score(X_test,y_test)"
   ]
  },
  {
   "cell_type": "code",
   "execution_count": 12,
   "id": "5f542c24",
   "metadata": {},
   "outputs": [
    {
     "data": {
      "text/plain": [
       "0.7972027972027972"
      ]
     },
     "execution_count": 12,
     "metadata": {},
     "output_type": "execute_result"
    }
   ],
   "source": [
    "clf_no_bert.score(X_train, y_train)"
   ]
  },
  {
   "cell_type": "markdown",
   "id": "1abae714-82d4-4c20-9258-1a2d300fef80",
   "metadata": {
    "jp-MarkdownHeadingCollapsed": true,
    "tags": []
   },
   "source": [
    "### FastText + Bert"
   ]
  },
  {
   "cell_type": "code",
   "execution_count": 77,
   "id": "626e1c0f",
   "metadata": {},
   "outputs": [],
   "source": [
    "clf_with_bert = LogisticRegression(random_state=0)"
   ]
  },
  {
   "cell_type": "code",
   "execution_count": 78,
   "id": "63c19bcf",
   "metadata": {},
   "outputs": [],
   "source": [
    "X_train, X_test, y_train, y_test = train_test_split(list(data['vector_bert']), list(data['negative']), test_size=0.2,random_state=7)"
   ]
  },
  {
   "cell_type": "code",
   "execution_count": 79,
   "id": "d8efa1d3",
   "metadata": {},
   "outputs": [
    {
     "data": {
      "text/plain": [
       "LogisticRegression(random_state=0)"
      ]
     },
     "execution_count": 79,
     "metadata": {},
     "output_type": "execute_result"
    }
   ],
   "source": [
    "clf_with_bert.fit(X_train, y_train)"
   ]
  },
  {
   "cell_type": "code",
   "execution_count": 80,
   "id": "511a3029",
   "metadata": {},
   "outputs": [
    {
     "data": {
      "text/plain": [
       "0.813953488372093"
      ]
     },
     "execution_count": 80,
     "metadata": {},
     "output_type": "execute_result"
    }
   ],
   "source": [
    "clf_with_bert.score(X_test,y_test)"
   ]
  },
  {
   "cell_type": "code",
   "execution_count": 81,
   "id": "a372250e",
   "metadata": {},
   "outputs": [
    {
     "data": {
      "text/plain": [
       "0.7937062937062938"
      ]
     },
     "execution_count": 81,
     "metadata": {},
     "output_type": "execute_result"
    }
   ],
   "source": [
    "clf_with_bert.score(X_train, y_train)"
   ]
  },
  {
   "cell_type": "markdown",
   "id": "a476814b-f194-43a1-b8ba-5db299c9015c",
   "metadata": {
    "jp-MarkdownHeadingCollapsed": true,
    "tags": []
   },
   "source": [
    "### TF-IDF"
   ]
  },
  {
   "cell_type": "code",
   "execution_count": 90,
   "id": "0f031769",
   "metadata": {},
   "outputs": [],
   "source": [
    "clf_tfidf = LogisticRegression(random_state=0)"
   ]
  },
  {
   "cell_type": "code",
   "execution_count": 91,
   "id": "ebc9b89b",
   "metadata": {},
   "outputs": [],
   "source": [
    "X_train, X_test, y_train, y_test = train_test_split(list(data['tfidf']), list(data['negative']), test_size=0.2,random_state=7)"
   ]
  },
  {
   "cell_type": "code",
   "execution_count": 92,
   "id": "b00bc93e",
   "metadata": {},
   "outputs": [
    {
     "data": {
      "text/plain": [
       "LogisticRegression(random_state=0)"
      ]
     },
     "execution_count": 92,
     "metadata": {},
     "output_type": "execute_result"
    }
   ],
   "source": [
    "clf_tfidf.fit(X_train, y_train)"
   ]
  },
  {
   "cell_type": "code",
   "execution_count": 93,
   "id": "f8d2af96",
   "metadata": {},
   "outputs": [
    {
     "data": {
      "text/plain": [
       "0.8093023255813954"
      ]
     },
     "execution_count": 93,
     "metadata": {},
     "output_type": "execute_result"
    }
   ],
   "source": [
    "clf_tfidf.score(X_test,y_test)"
   ]
  },
  {
   "cell_type": "code",
   "execution_count": 94,
   "id": "a403308a",
   "metadata": {},
   "outputs": [
    {
     "data": {
      "text/plain": [
       "0.9708624708624709"
      ]
     },
     "execution_count": 94,
     "metadata": {},
     "output_type": "execute_result"
    }
   ],
   "source": [
    "clf_tfidf.score(X_train, y_train)"
   ]
  }
 ],
 "metadata": {
  "kernelspec": {
   "display_name": "Python 3",
   "language": "python",
   "name": "python3"
  },
  "language_info": {
   "codemirror_mode": {
    "name": "ipython",
    "version": 3
   },
   "file_extension": ".py",
   "mimetype": "text/x-python",
   "name": "python",
   "nbconvert_exporter": "python",
   "pygments_lexer": "ipython3",
   "version": "3.6.9"
  }
 },
 "nbformat": 4,
 "nbformat_minor": 5
}
