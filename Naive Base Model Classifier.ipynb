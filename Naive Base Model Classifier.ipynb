{
 "cells": [
  {
   "cell_type": "code",
   "execution_count": 1,
   "id": "956a3aba",
   "metadata": {},
   "outputs": [],
   "source": [
    "from sklearn.model_selection import train_test_split\n",
    "from sklearn.naive_bayes import GaussianNB\n",
    "from sklearn.naive_bayes import BernoulliNB\n",
    "import pickle\n",
    "import numpy as np\n",
    "from sklearn.metrics import (\n",
    "    accuracy_score,\n",
    "    classification_report,\n",
    "    confusion_matrix,\n",
    ")\n",
    "from sklearn.preprocessing import normalize\n",
    "from sklearn.model_selection import cross_validate\n",
    "from sklearn.model_selection import ShuffleSplit\n",
    "from sklearn.model_selection import cross_val_score"
   ]
  },
  {
   "cell_type": "markdown",
   "id": "d1d963ef-c5a5-4ef9-8a00-2d00a4167d98",
   "metadata": {
    "jp-MarkdownHeadingCollapsed": true,
    "tags": []
   },
   "source": [
    "## Naive Base Classifier"
   ]
  },
  {
   "cell_type": "markdown",
   "id": "b3c94bd7-2740-4081-a68e-1a0b90977152",
   "metadata": {
    "jp-MarkdownHeadingCollapsed": true,
    "tags": []
   },
   "source": [
    "### Load Data"
   ]
  },
  {
   "cell_type": "code",
   "execution_count": 2,
   "id": "934f3c9a",
   "metadata": {},
   "outputs": [],
   "source": [
    "#Open Data With Pickle\n",
    "with open('Data.pkl', 'rb') as f:\n",
    "   data = pickle.load(f)"
   ]
  },
  {
   "cell_type": "code",
   "execution_count": 4,
   "id": "5a7a59e7",
   "metadata": {
    "scrolled": true
   },
   "outputs": [
    {
     "data": {
      "text/html": [
       "<div>\n",
       "<style scoped>\n",
       "    .dataframe tbody tr th:only-of-type {\n",
       "        vertical-align: middle;\n",
       "    }\n",
       "\n",
       "    .dataframe tbody tr th {\n",
       "        vertical-align: top;\n",
       "    }\n",
       "\n",
       "    .dataframe thead th {\n",
       "        text-align: right;\n",
       "    }\n",
       "</style>\n",
       "<table border=\"1\" class=\"dataframe\">\n",
       "  <thead>\n",
       "    <tr style=\"text-align: right;\">\n",
       "      <th></th>\n",
       "      <th>name</th>\n",
       "      <th>time</th>\n",
       "      <th>post</th>\n",
       "      <th>year</th>\n",
       "      <th>location</th>\n",
       "      <th>party</th>\n",
       "      <th>labor</th>\n",
       "      <th>geographical_area</th>\n",
       "      <th>negative</th>\n",
       "      <th>target</th>\n",
       "      <th>Elections</th>\n",
       "      <th>Tokens</th>\n",
       "      <th>bert</th>\n",
       "      <th>Vectors</th>\n",
       "      <th>tfidf</th>\n",
       "    </tr>\n",
       "  </thead>\n",
       "  <tbody>\n",
       "    <tr>\n",
       "      <th>0</th>\n",
       "      <td>Rami_Greenberg</td>\n",
       "      <td>14/05/2018 23:13</td>\n",
       "      <td>בזמן שאני במילואים משרת את המדינה אני מקבל עדכ...</td>\n",
       "      <td>2018.0</td>\n",
       "      <td>Petah Tikva</td>\n",
       "      <td>הליכוד</td>\n",
       "      <td>Right</td>\n",
       "      <td>Center</td>\n",
       "      <td>True</td>\n",
       "      <td>NaN</td>\n",
       "      <td>True</td>\n",
       "      <td>[זמן, במילואים, מדינה, עדכון, שטח, עבריין, נשל...</td>\n",
       "      <td>[0.16135516462782107, 0.17096072217797578, 0.6...</td>\n",
       "      <td>[[0.09727664, -0.034328427, -0.07360464, 0.004...</td>\n",
       "      <td>[0.0, 0.0, 0.0, 0.0, 0.0, 0.08299487732492938,...</td>\n",
       "    </tr>\n",
       "    <tr>\n",
       "      <th>1</th>\n",
       "      <td>Itai_Sahar</td>\n",
       "      <td>17/07/2018 21:31</td>\n",
       "      <td>ראיון ברשת ב' לגבי הזנחת מיגון השכונות הוותיקו...</td>\n",
       "      <td>2018.0</td>\n",
       "      <td>Ashkelon</td>\n",
       "      <td>תקווה חדשה,מופת</td>\n",
       "      <td>Right</td>\n",
       "      <td>South</td>\n",
       "      <td>True</td>\n",
       "      <td>NaN</td>\n",
       "      <td>True</td>\n",
       "      <td>[ראיון, ב', שכונה, התחממות, שבת, הפתיע, מוקד, ...</td>\n",
       "      <td>[0.12134942523386728, 0.21913829266070803, 0.6...</td>\n",
       "      <td>[[0.058681607, 0.0714004, -0.015508179, -0.024...</td>\n",
       "      <td>[0.0, 0.0, 0.0, 0.0, 0.0, 0.0, 0.0, 0.0, 0.0, ...</td>\n",
       "    </tr>\n",
       "    <tr>\n",
       "      <th>2</th>\n",
       "      <td>Itai_Sahar</td>\n",
       "      <td>25/09/2018 13:51</td>\n",
       "      <td>החיבור בין הנהגה עירונית להנהגה רוחנית באשקלון...</td>\n",
       "      <td>2018.0</td>\n",
       "      <td>Ashkelon</td>\n",
       "      <td>תקווה חדשה,מופת</td>\n",
       "      <td>Right</td>\n",
       "      <td>South</td>\n",
       "      <td>True</td>\n",
       "      <td>NaN</td>\n",
       "      <td>True</td>\n",
       "      <td>[חיבור, הנהגה, הנהגה, גבול, תמיכה, תמיכה, דעת,...</td>\n",
       "      <td>[0.060134747054776415, 0.21581373673541834, 0....</td>\n",
       "      <td>[[0.08643902, 0.02041652, 0.049621165, 0.00082...</td>\n",
       "      <td>[0.0, 0.0, 0.0, 0.0, 0.0, 0.0, 0.0, 0.0, 0.0, ...</td>\n",
       "    </tr>\n",
       "    <tr>\n",
       "      <th>3</th>\n",
       "      <td>Efraim Bulmash</td>\n",
       "      <td>17/09/2018 19:44</td>\n",
       "      <td>אם אני הייתי ראש עיריית קריית גת, כבוד הרב היה...</td>\n",
       "      <td>2018.0</td>\n",
       "      <td>Netanya</td>\n",
       "      <td>העבודה</td>\n",
       "      <td>Left</td>\n",
       "      <td>Center</td>\n",
       "      <td>True</td>\n",
       "      <td>NaN</td>\n",
       "      <td>True</td>\n",
       "      <td>[רב, רב, בלין,, התנצל, התפלל, כיפור, סליחה, עד...</td>\n",
       "      <td>[5.125870666233823e-05, 6.046074122423306e-05,...</td>\n",
       "      <td>[[-0.07948438, -0.053431872, 0.24393372, 0.028...</td>\n",
       "      <td>[0.0, 0.0, 0.0, 0.0, 0.0, 0.0, 0.0, 0.0, 0.0, ...</td>\n",
       "    </tr>\n",
       "    <tr>\n",
       "      <th>4</th>\n",
       "      <td>Efraim Bulmash</td>\n",
       "      <td>26/06/2018 08:19</td>\n",
       "      <td>קאט דה בולשיט שאנז אליזה ברחוב הרצל!   קודם תנ...</td>\n",
       "      <td>2018.0</td>\n",
       "      <td>Netanya</td>\n",
       "      <td>העבודה</td>\n",
       "      <td>Left</td>\n",
       "      <td>Center</td>\n",
       "      <td>True</td>\n",
       "      <td>NaN</td>\n",
       "      <td>True</td>\n",
       "      <td>[רחוב, תנגישו, עיר, מערך, ייצר, חנייה, כלל, חנ...</td>\n",
       "      <td>[5.993927698000334e-05, 4.033872755826451e-05,...</td>\n",
       "      <td>[[-0.070441075, 0.025691396, 0.11220714, -0.04...</td>\n",
       "      <td>[0.0, 0.0, 0.0, 0.0, 0.0, 0.0, 0.0, 0.0, 0.0, ...</td>\n",
       "    </tr>\n",
       "    <tr>\n",
       "      <th>...</th>\n",
       "      <td>...</td>\n",
       "      <td>...</td>\n",
       "      <td>...</td>\n",
       "      <td>...</td>\n",
       "      <td>...</td>\n",
       "      <td>...</td>\n",
       "      <td>...</td>\n",
       "      <td>...</td>\n",
       "      <td>...</td>\n",
       "      <td>...</td>\n",
       "      <td>...</td>\n",
       "      <td>...</td>\n",
       "      <td>...</td>\n",
       "      <td>...</td>\n",
       "      <td>...</td>\n",
       "    </tr>\n",
       "    <tr>\n",
       "      <th>1068</th>\n",
       "      <td>Shimon Keznelson</td>\n",
       "      <td>28/06/2018 14:53</td>\n",
       "      <td>מוטי אלבז היקר תודה רבה על האירוח הלבבי, תודה ...</td>\n",
       "      <td>2018.0</td>\n",
       "      <td>Ashdod</td>\n",
       "      <td>אשדוד ביחד</td>\n",
       "      <td>NaN</td>\n",
       "      <td>South</td>\n",
       "      <td>False</td>\n",
       "      <td>NaN</td>\n",
       "      <td>True</td>\n",
       "      <td>[תודה, אירוח, הודה, תושב, עיר, הגיע, הביע, תמי...</td>\n",
       "      <td>[0.0001437089085811749, 0.9997618794441223, 9....</td>\n",
       "      <td>[[-0.044175133, 0.08961652, 0.07179671, -0.008...</td>\n",
       "      <td>[0.0, 0.0, 0.0, 0.0, 0.0, 0.0, 0.0, 0.0, 0.0, ...</td>\n",
       "    </tr>\n",
       "    <tr>\n",
       "      <th>1069</th>\n",
       "      <td>Itzik Braverman</td>\n",
       "      <td>21/06/2018 09:46</td>\n",
       "      <td>הודעתי אתמול על הקמת יחידה לפיקוח על הגנים הפר...</td>\n",
       "      <td>2018.0</td>\n",
       "      <td>Petah Tikva</td>\n",
       "      <td>אכפ\"ת,העבודה</td>\n",
       "      <td>Left</td>\n",
       "      <td>Center</td>\n",
       "      <td>False</td>\n",
       "      <td>NaN</td>\n",
       "      <td>True</td>\n",
       "      <td>[הודיע, יחידה, פיקוח, גן, ערב, התקיים, מפגש, פ...</td>\n",
       "      <td>[0.10708105028121888, 0.8066147193312645, 0.08...</td>\n",
       "      <td>[[0.105399854, 0.099687375, -0.0052871583, 0.0...</td>\n",
       "      <td>[0.0, 0.0, 0.0, 0.0, 0.0, 0.0, 0.0, 0.0, 0.0, ...</td>\n",
       "    </tr>\n",
       "    <tr>\n",
       "      <th>1070</th>\n",
       "      <td>Raz Kinstlich</td>\n",
       "      <td>13/08/2018 08:45</td>\n",
       "      <td>מעין פלח שדה, 50, בעלת תואר שני במנהל עסקים.  ...</td>\n",
       "      <td>2018.0</td>\n",
       "      <td>Rishon LeZion</td>\n",
       "      <td>תקווה חדשה</td>\n",
       "      <td>Right</td>\n",
       "      <td>Center</td>\n",
       "      <td>False</td>\n",
       "      <td>NaN</td>\n",
       "      <td>True</td>\n",
       "      <td>[תואר, מנהל, עסק, רכש, מפעל, הייטק, דירקטור, מ...</td>\n",
       "      <td>[0.31750033317366616, 0.676763616874814, 0.005...</td>\n",
       "      <td>[[0.14289406, 0.057123892, 0.05320154, 0.00059...</td>\n",
       "      <td>[0.0, 0.0, 0.0, 0.0, 0.0, 0.0, 0.0, 0.0, 0.0, ...</td>\n",
       "    </tr>\n",
       "    <tr>\n",
       "      <th>1071</th>\n",
       "      <td>Ifat Kariv</td>\n",
       "      <td>28/10/2018 19:05</td>\n",
       "      <td>לא מבזבזים את הקול!   לתיבות הדואר שלכם הגיעה ...</td>\n",
       "      <td>2018.0</td>\n",
       "      <td>Hod Hasharon</td>\n",
       "      <td>NaN</td>\n",
       "      <td>NaN</td>\n",
       "      <td>Center</td>\n",
       "      <td>False</td>\n",
       "      <td>NaN</td>\n",
       "      <td>True</td>\n",
       "      <td>[קול, דואר, הגיע, חובר, מידע, בחירה, מידע, תוכ...</td>\n",
       "      <td>[0.161508748215662, 0.3438450593712332, 0.4946...</td>\n",
       "      <td>[[0.18943638, -0.048461493, -0.11169901, -0.15...</td>\n",
       "      <td>[0.0, 0.0, 0.0, 0.0, 0.0, 0.0, 0.0, 0.0, 0.0, ...</td>\n",
       "    </tr>\n",
       "    <tr>\n",
       "      <th>1072</th>\n",
       "      <td>Itzik Braverman</td>\n",
       "      <td>20/08/2018 05:55</td>\n",
       "      <td>מפגן תמיכה ענק של העדה האתיופית בראש העיר איצי...</td>\n",
       "      <td>2018.0</td>\n",
       "      <td>Petah Tikva</td>\n",
       "      <td>אכפ\"ת,העבודה</td>\n",
       "      <td>Left</td>\n",
       "      <td>Center</td>\n",
       "      <td>False</td>\n",
       "      <td>NaN</td>\n",
       "      <td>True</td>\n",
       "      <td>[תמיכה, עדה, עיר, השתתפות, עדה, קהל, קהילה, יי...</td>\n",
       "      <td>[0.09886708466729033, 0.882851941511035, 0.018...</td>\n",
       "      <td>[[-0.044653244, 0.0097915465, -0.013830921, -0...</td>\n",
       "      <td>[0.0, 0.0, 0.0, 0.0, 0.0, 0.0, 0.0, 0.0, 0.0, ...</td>\n",
       "    </tr>\n",
       "  </tbody>\n",
       "</table>\n",
       "<p>1073 rows × 15 columns</p>\n",
       "</div>"
      ],
      "text/plain": [
       "                  name              time  \\\n",
       "0       Rami_Greenberg  14/05/2018 23:13   \n",
       "1           Itai_Sahar  17/07/2018 21:31   \n",
       "2           Itai_Sahar  25/09/2018 13:51   \n",
       "3       Efraim Bulmash  17/09/2018 19:44   \n",
       "4       Efraim Bulmash  26/06/2018 08:19   \n",
       "...                ...               ...   \n",
       "1068  Shimon Keznelson  28/06/2018 14:53   \n",
       "1069   Itzik Braverman  21/06/2018 09:46   \n",
       "1070     Raz Kinstlich  13/08/2018 08:45   \n",
       "1071        Ifat Kariv  28/10/2018 19:05   \n",
       "1072   Itzik Braverman  20/08/2018 05:55   \n",
       "\n",
       "                                                   post    year  \\\n",
       "0     בזמן שאני במילואים משרת את המדינה אני מקבל עדכ...  2018.0   \n",
       "1     ראיון ברשת ב' לגבי הזנחת מיגון השכונות הוותיקו...  2018.0   \n",
       "2     החיבור בין הנהגה עירונית להנהגה רוחנית באשקלון...  2018.0   \n",
       "3     אם אני הייתי ראש עיריית קריית גת, כבוד הרב היה...  2018.0   \n",
       "4     קאט דה בולשיט שאנז אליזה ברחוב הרצל!   קודם תנ...  2018.0   \n",
       "...                                                 ...     ...   \n",
       "1068  מוטי אלבז היקר תודה רבה על האירוח הלבבי, תודה ...  2018.0   \n",
       "1069  הודעתי אתמול על הקמת יחידה לפיקוח על הגנים הפר...  2018.0   \n",
       "1070  מעין פלח שדה, 50, בעלת תואר שני במנהל עסקים.  ...  2018.0   \n",
       "1071  לא מבזבזים את הקול!   לתיבות הדואר שלכם הגיעה ...  2018.0   \n",
       "1072  מפגן תמיכה ענק של העדה האתיופית בראש העיר איצי...  2018.0   \n",
       "\n",
       "           location            party  labor geographical_area negative target  \\\n",
       "0       Petah Tikva           הליכוד  Right            Center     True    NaN   \n",
       "1          Ashkelon  תקווה חדשה,מופת  Right             South     True    NaN   \n",
       "2          Ashkelon  תקווה חדשה,מופת  Right             South     True    NaN   \n",
       "3           Netanya           העבודה   Left            Center     True    NaN   \n",
       "4           Netanya           העבודה   Left            Center     True    NaN   \n",
       "...             ...              ...    ...               ...      ...    ...   \n",
       "1068         Ashdod       אשדוד ביחד    NaN             South    False    NaN   \n",
       "1069    Petah Tikva     אכפ\"ת,העבודה   Left            Center    False    NaN   \n",
       "1070  Rishon LeZion       תקווה חדשה  Right            Center    False    NaN   \n",
       "1071   Hod Hasharon              NaN    NaN            Center    False    NaN   \n",
       "1072    Petah Tikva     אכפ\"ת,העבודה   Left            Center    False    NaN   \n",
       "\n",
       "     Elections                                             Tokens  \\\n",
       "0         True  [זמן, במילואים, מדינה, עדכון, שטח, עבריין, נשל...   \n",
       "1         True  [ראיון, ב', שכונה, התחממות, שבת, הפתיע, מוקד, ...   \n",
       "2         True  [חיבור, הנהגה, הנהגה, גבול, תמיכה, תמיכה, דעת,...   \n",
       "3         True  [רב, רב, בלין,, התנצל, התפלל, כיפור, סליחה, עד...   \n",
       "4         True  [רחוב, תנגישו, עיר, מערך, ייצר, חנייה, כלל, חנ...   \n",
       "...        ...                                                ...   \n",
       "1068      True  [תודה, אירוח, הודה, תושב, עיר, הגיע, הביע, תמי...   \n",
       "1069      True  [הודיע, יחידה, פיקוח, גן, ערב, התקיים, מפגש, פ...   \n",
       "1070      True  [תואר, מנהל, עסק, רכש, מפעל, הייטק, דירקטור, מ...   \n",
       "1071      True  [קול, דואר, הגיע, חובר, מידע, בחירה, מידע, תוכ...   \n",
       "1072      True  [תמיכה, עדה, עיר, השתתפות, עדה, קהל, קהילה, יי...   \n",
       "\n",
       "                                                   bert  \\\n",
       "0     [0.16135516462782107, 0.17096072217797578, 0.6...   \n",
       "1     [0.12134942523386728, 0.21913829266070803, 0.6...   \n",
       "2     [0.060134747054776415, 0.21581373673541834, 0....   \n",
       "3     [5.125870666233823e-05, 6.046074122423306e-05,...   \n",
       "4     [5.993927698000334e-05, 4.033872755826451e-05,...   \n",
       "...                                                 ...   \n",
       "1068  [0.0001437089085811749, 0.9997618794441223, 9....   \n",
       "1069  [0.10708105028121888, 0.8066147193312645, 0.08...   \n",
       "1070  [0.31750033317366616, 0.676763616874814, 0.005...   \n",
       "1071  [0.161508748215662, 0.3438450593712332, 0.4946...   \n",
       "1072  [0.09886708466729033, 0.882851941511035, 0.018...   \n",
       "\n",
       "                                                Vectors  \\\n",
       "0     [[0.09727664, -0.034328427, -0.07360464, 0.004...   \n",
       "1     [[0.058681607, 0.0714004, -0.015508179, -0.024...   \n",
       "2     [[0.08643902, 0.02041652, 0.049621165, 0.00082...   \n",
       "3     [[-0.07948438, -0.053431872, 0.24393372, 0.028...   \n",
       "4     [[-0.070441075, 0.025691396, 0.11220714, -0.04...   \n",
       "...                                                 ...   \n",
       "1068  [[-0.044175133, 0.08961652, 0.07179671, -0.008...   \n",
       "1069  [[0.105399854, 0.099687375, -0.0052871583, 0.0...   \n",
       "1070  [[0.14289406, 0.057123892, 0.05320154, 0.00059...   \n",
       "1071  [[0.18943638, -0.048461493, -0.11169901, -0.15...   \n",
       "1072  [[-0.044653244, 0.0097915465, -0.013830921, -0...   \n",
       "\n",
       "                                                  tfidf  \n",
       "0     [0.0, 0.0, 0.0, 0.0, 0.0, 0.08299487732492938,...  \n",
       "1     [0.0, 0.0, 0.0, 0.0, 0.0, 0.0, 0.0, 0.0, 0.0, ...  \n",
       "2     [0.0, 0.0, 0.0, 0.0, 0.0, 0.0, 0.0, 0.0, 0.0, ...  \n",
       "3     [0.0, 0.0, 0.0, 0.0, 0.0, 0.0, 0.0, 0.0, 0.0, ...  \n",
       "4     [0.0, 0.0, 0.0, 0.0, 0.0, 0.0, 0.0, 0.0, 0.0, ...  \n",
       "...                                                 ...  \n",
       "1068  [0.0, 0.0, 0.0, 0.0, 0.0, 0.0, 0.0, 0.0, 0.0, ...  \n",
       "1069  [0.0, 0.0, 0.0, 0.0, 0.0, 0.0, 0.0, 0.0, 0.0, ...  \n",
       "1070  [0.0, 0.0, 0.0, 0.0, 0.0, 0.0, 0.0, 0.0, 0.0, ...  \n",
       "1071  [0.0, 0.0, 0.0, 0.0, 0.0, 0.0, 0.0, 0.0, 0.0, ...  \n",
       "1072  [0.0, 0.0, 0.0, 0.0, 0.0, 0.0, 0.0, 0.0, 0.0, ...  \n",
       "\n",
       "[1073 rows x 15 columns]"
      ]
     },
     "execution_count": 4,
     "metadata": {},
     "output_type": "execute_result"
    }
   ],
   "source": [
    "data"
   ]
  },
  {
   "cell_type": "markdown",
   "id": "b184525b-1fbd-4588-a5e9-09c1115e81fd",
   "metadata": {
    "jp-MarkdownHeadingCollapsed": true,
    "tags": []
   },
   "source": [
    "### FatsText"
   ]
  },
  {
   "cell_type": "code",
   "execution_count": 11,
   "id": "0e796539",
   "metadata": {},
   "outputs": [],
   "source": [
    "clf_no_bert = BernoulliNB()"
   ]
  },
  {
   "cell_type": "code",
   "execution_count": null,
   "id": "f0148cfe",
   "metadata": {},
   "outputs": [],
   "source": [
    "X_train, X_test, y_train, y_test = train_test_split(list(data['vector']), list(data['negative']), test_size=0.2,random_state=7)"
   ]
  },
  {
   "cell_type": "code",
   "execution_count": 66,
   "id": "264c4033",
   "metadata": {},
   "outputs": [
    {
     "data": {
      "text/plain": [
       "BernoulliNB()"
      ]
     },
     "execution_count": 66,
     "metadata": {},
     "output_type": "execute_result"
    }
   ],
   "source": [
    "clf_no_bert.fit(X_train, y_train)"
   ]
  },
  {
   "cell_type": "code",
   "execution_count": 67,
   "id": "ec20850f",
   "metadata": {},
   "outputs": [
    {
     "data": {
      "text/plain": [
       "0.7209302325581395"
      ]
     },
     "execution_count": 67,
     "metadata": {},
     "output_type": "execute_result"
    }
   ],
   "source": [
    "clf_no_bert.score(X_test,y_test)"
   ]
  },
  {
   "cell_type": "code",
   "execution_count": 68,
   "id": "b0694f2c",
   "metadata": {},
   "outputs": [
    {
     "data": {
      "text/plain": [
       "0.7074592074592074"
      ]
     },
     "execution_count": 68,
     "metadata": {},
     "output_type": "execute_result"
    }
   ],
   "source": [
    "clf_no_bert.score(X_train, y_train)"
   ]
  },
  {
   "cell_type": "markdown",
   "id": "d0924c5f-0007-46ad-b961-7049dbc37484",
   "metadata": {
    "jp-MarkdownHeadingCollapsed": true,
    "tags": []
   },
   "source": [
    "### FastText + Bert"
   ]
  },
  {
   "cell_type": "code",
   "execution_count": 69,
   "id": "d8e64219",
   "metadata": {},
   "outputs": [],
   "source": [
    "clf_with_bert = BernoulliNB()"
   ]
  },
  {
   "cell_type": "code",
   "execution_count": null,
   "id": "f63e1859",
   "metadata": {},
   "outputs": [],
   "source": [
    "X_train, X_test, y_train, y_test = train_test_split(list(data['vector_bert']), list(data['negative']), test_size=0.2,random_state=7)"
   ]
  },
  {
   "cell_type": "code",
   "execution_count": 128,
   "id": "4e6abd51",
   "metadata": {},
   "outputs": [
    {
     "data": {
      "text/plain": [
       "BernoulliNB()"
      ]
     },
     "execution_count": 128,
     "metadata": {},
     "output_type": "execute_result"
    }
   ],
   "source": [
    "clf_with_bert.fit(X_train, y_train)"
   ]
  },
  {
   "cell_type": "code",
   "execution_count": 129,
   "id": "0871d2fa",
   "metadata": {},
   "outputs": [
    {
     "data": {
      "text/plain": [
       "0.7209302325581395"
      ]
     },
     "execution_count": 129,
     "metadata": {},
     "output_type": "execute_result"
    }
   ],
   "source": [
    "clf_with_bert.score(X_test,y_test)"
   ]
  },
  {
   "cell_type": "code",
   "execution_count": 130,
   "id": "b16fcb50",
   "metadata": {},
   "outputs": [
    {
     "data": {
      "text/plain": [
       "0.7074592074592074"
      ]
     },
     "execution_count": 130,
     "metadata": {},
     "output_type": "execute_result"
    }
   ],
   "source": [
    "clf_with_bert.score(X_train, y_train)"
   ]
  },
  {
   "cell_type": "markdown",
   "id": "87cc853e-04f1-4470-8dc6-1e3a78189155",
   "metadata": {
    "jp-MarkdownHeadingCollapsed": true,
    "tags": []
   },
   "source": [
    "### TF-IDF"
   ]
  },
  {
   "cell_type": "code",
   "execution_count": 131,
   "id": "b7bb6a74",
   "metadata": {},
   "outputs": [],
   "source": [
    "clf_tfidf = GaussianNB()"
   ]
  },
  {
   "cell_type": "code",
   "execution_count": 177,
   "id": "e30db42e",
   "metadata": {},
   "outputs": [],
   "source": [
    "X_train, X_test, y_train, y_test = train_test_split(list(data['tfidf']), list(data['negative']), test_size=0.2,random_state=7)"
   ]
  },
  {
   "cell_type": "code",
   "execution_count": 178,
   "id": "2cb9aceb",
   "metadata": {},
   "outputs": [
    {
     "data": {
      "text/plain": [
       "GaussianNB()"
      ]
     },
     "execution_count": 178,
     "metadata": {},
     "output_type": "execute_result"
    }
   ],
   "source": [
    "clf_tfidf.fit(X_train, y_train)"
   ]
  },
  {
   "cell_type": "code",
   "execution_count": 179,
   "id": "56be89c2",
   "metadata": {},
   "outputs": [
    {
     "data": {
      "text/plain": [
       "0.7302325581395349"
      ]
     },
     "execution_count": 179,
     "metadata": {},
     "output_type": "execute_result"
    }
   ],
   "source": [
    "clf_tfidf.score(X_test,y_test)"
   ]
  },
  {
   "cell_type": "code",
   "execution_count": 180,
   "id": "e2e61638",
   "metadata": {},
   "outputs": [
    {
     "data": {
      "text/plain": [
       "0.9976689976689976"
      ]
     },
     "execution_count": 180,
     "metadata": {},
     "output_type": "execute_result"
    }
   ],
   "source": [
    "clf_tfidf.score(X_train, y_train)"
   ]
  },
  {
   "cell_type": "code",
   "execution_count": null,
   "id": "4bd643e8-472d-4b64-b18a-d424c79d442b",
   "metadata": {},
   "outputs": [],
   "source": []
  }
 ],
 "metadata": {
  "kernelspec": {
   "display_name": "Python 3",
   "language": "python",
   "name": "python3"
  },
  "language_info": {
   "codemirror_mode": {
    "name": "ipython",
    "version": 3
   },
   "file_extension": ".py",
   "mimetype": "text/x-python",
   "name": "python",
   "nbconvert_exporter": "python",
   "pygments_lexer": "ipython3",
   "version": "3.6.9"
  }
 },
 "nbformat": 4,
 "nbformat_minor": 5
}
